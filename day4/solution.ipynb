{
  "cells": [
    {
      "cell_type": "code",
      "source": [
        "import re\n",
        "cards = {}\n",
        "ncards = {}\n",
        "with open(\"input_1.txt\", \"r\") as file:\n",
        "    for i, line in enumerate(file):\n",
        "      cn = int(re.findall('[0-9]+', line.split(\":\")[0])[0])\n",
        "      if cn != i+1:\n",
        "        print(\"duckers\", i+1 , cn)\n",
        "      winning, got = line.split(\":\")[1].split(\"|\")\n",
        "      #print(winning.split(\" \", maxsplit=1))\n",
        "      cards[cn] = [re.findall('[0-9]+', winning), re.findall('[0-9]+', got)]\n",
        "      ncards[cn] = 1\n",
        "#cards\n"
      ],
      "outputs": [],
      "execution_count": 50,
      "metadata": {
        "collapsed": true,
        "jupyter": {
          "source_hidden": false,
          "outputs_hidden": false
        },
        "nteract": {
          "transient": {
            "deleting": false
          }
        },
        "execution": {
          "shell.execute_reply": "2023-12-04T15:23:08.665Z",
          "iopub.status.busy": "2023-12-04T15:23:08.652Z",
          "iopub.execute_input": "2023-12-04T15:23:08.656Z",
          "iopub.status.idle": "2023-12-04T15:23:08.662Z"
        }
      }
    },
    {
      "cell_type": "code",
      "source": [
        "\n",
        "cn"
      ],
      "outputs": [
        {
          "output_type": "execute_result",
          "execution_count": 51,
          "data": {
            "text/plain": "199"
          },
          "metadata": {}
        }
      ],
      "execution_count": 51,
      "metadata": {
        "collapsed": true,
        "jupyter": {
          "source_hidden": false,
          "outputs_hidden": false
        },
        "nteract": {
          "transient": {
            "deleting": false
          }
        },
        "execution": {
          "iopub.status.busy": "2023-12-04T15:23:09.064Z",
          "iopub.execute_input": "2023-12-04T15:23:09.068Z",
          "iopub.status.idle": "2023-12-04T15:23:09.079Z",
          "shell.execute_reply": "2023-12-04T15:23:09.085Z"
        }
      }
    },
    {
      "cell_type": "code",
      "source": [
        "scores = []\n",
        "for c in cards:\n",
        "  winning, got = cards[c]\n",
        "  cardscore = 0\n",
        "  matches = 0\n",
        "  #print(got)\n",
        "  #print(winning)\n",
        "  for g in got:\n",
        "    #print(g)\n",
        "    if g in winning:\n",
        "      #print(\"ff\")\n",
        "      if matches == 0:\n",
        "        cardscore = 1\n",
        "      if matches > 0:\n",
        "        cardscore = cardscore * 2\n",
        "      matches += 1\n",
        "  scores.append(cardscore)     \n",
        "  #print(c, cardscore)\n",
        "sum(scores)  "
      ],
      "outputs": [
        {
          "output_type": "execute_result",
          "execution_count": 52,
          "data": {
            "text/plain": "21821"
          },
          "metadata": {}
        }
      ],
      "execution_count": 52,
      "metadata": {
        "collapsed": true,
        "jupyter": {
          "source_hidden": false,
          "outputs_hidden": false
        },
        "nteract": {
          "transient": {
            "deleting": false
          }
        },
        "execution": {
          "iopub.status.busy": "2023-12-04T15:23:09.572Z",
          "iopub.execute_input": "2023-12-04T15:23:09.576Z",
          "iopub.status.idle": "2023-12-04T15:23:09.588Z",
          "shell.execute_reply": "2023-12-04T15:23:09.591Z"
        }
      }
    },
    {
      "cell_type": "code",
      "source": [],
      "outputs": [],
      "execution_count": null,
      "metadata": {
        "collapsed": true,
        "jupyter": {
          "source_hidden": false,
          "outputs_hidden": false
        },
        "nteract": {
          "transient": {
            "deleting": false
          }
        }
      }
    },
    {
      "cell_type": "code",
      "source": [
        "ncards"
      ],
      "outputs": [
        {
          "output_type": "execute_result",
          "execution_count": 53,
          "data": {
            "text/plain": "{1: 1,\n 2: 1,\n 3: 1,\n 4: 1,\n 5: 1,\n 6: 1,\n 7: 1,\n 8: 1,\n 9: 1,\n 10: 1,\n 11: 1,\n 12: 1,\n 13: 1,\n 14: 1,\n 15: 1,\n 16: 1,\n 17: 1,\n 18: 1,\n 19: 1,\n 20: 1,\n 21: 1,\n 22: 1,\n 23: 1,\n 24: 1,\n 25: 1,\n 26: 1,\n 27: 1,\n 28: 1,\n 29: 1,\n 30: 1,\n 31: 1,\n 32: 1,\n 33: 1,\n 34: 1,\n 35: 1,\n 36: 1,\n 37: 1,\n 38: 1,\n 39: 1,\n 40: 1,\n 41: 1,\n 42: 1,\n 43: 1,\n 44: 1,\n 45: 1,\n 46: 1,\n 47: 1,\n 48: 1,\n 49: 1,\n 50: 1,\n 51: 1,\n 52: 1,\n 53: 1,\n 54: 1,\n 55: 1,\n 56: 1,\n 57: 1,\n 58: 1,\n 59: 1,\n 60: 1,\n 61: 1,\n 62: 1,\n 63: 1,\n 64: 1,\n 65: 1,\n 66: 1,\n 67: 1,\n 68: 1,\n 69: 1,\n 70: 1,\n 71: 1,\n 72: 1,\n 73: 1,\n 74: 1,\n 75: 1,\n 76: 1,\n 77: 1,\n 78: 1,\n 79: 1,\n 80: 1,\n 81: 1,\n 82: 1,\n 83: 1,\n 84: 1,\n 85: 1,\n 86: 1,\n 87: 1,\n 88: 1,\n 89: 1,\n 90: 1,\n 91: 1,\n 92: 1,\n 93: 1,\n 94: 1,\n 95: 1,\n 96: 1,\n 97: 1,\n 98: 1,\n 99: 1,\n 100: 1,\n 101: 1,\n 102: 1,\n 103: 1,\n 104: 1,\n 105: 1,\n 106: 1,\n 107: 1,\n 108: 1,\n 109: 1,\n 110: 1,\n 111: 1,\n 112: 1,\n 113: 1,\n 114: 1,\n 115: 1,\n 116: 1,\n 117: 1,\n 118: 1,\n 119: 1,\n 120: 1,\n 121: 1,\n 122: 1,\n 123: 1,\n 124: 1,\n 125: 1,\n 126: 1,\n 127: 1,\n 128: 1,\n 129: 1,\n 130: 1,\n 131: 1,\n 132: 1,\n 133: 1,\n 134: 1,\n 135: 1,\n 136: 1,\n 137: 1,\n 138: 1,\n 139: 1,\n 140: 1,\n 141: 1,\n 142: 1,\n 143: 1,\n 144: 1,\n 145: 1,\n 146: 1,\n 147: 1,\n 148: 1,\n 149: 1,\n 150: 1,\n 151: 1,\n 152: 1,\n 153: 1,\n 154: 1,\n 155: 1,\n 156: 1,\n 157: 1,\n 158: 1,\n 159: 1,\n 160: 1,\n 161: 1,\n 162: 1,\n 163: 1,\n 164: 1,\n 165: 1,\n 166: 1,\n 167: 1,\n 168: 1,\n 169: 1,\n 170: 1,\n 171: 1,\n 172: 1,\n 173: 1,\n 174: 1,\n 175: 1,\n 176: 1,\n 177: 1,\n 178: 1,\n 179: 1,\n 180: 1,\n 181: 1,\n 182: 1,\n 183: 1,\n 184: 1,\n 185: 1,\n 186: 1,\n 187: 1,\n 188: 1,\n 189: 1,\n 190: 1,\n 191: 1,\n 192: 1,\n 193: 1,\n 194: 1,\n 195: 1,\n 196: 1,\n 197: 1,\n 198: 1,\n 199: 1}"
          },
          "metadata": {}
        }
      ],
      "execution_count": 53,
      "metadata": {
        "collapsed": true,
        "jupyter": {
          "source_hidden": false,
          "outputs_hidden": false
        },
        "nteract": {
          "transient": {
            "deleting": false
          }
        },
        "execution": {
          "iopub.status.busy": "2023-12-04T15:23:11.049Z",
          "iopub.execute_input": "2023-12-04T15:23:11.052Z",
          "iopub.status.idle": "2023-12-04T15:23:11.061Z",
          "shell.execute_reply": "2023-12-04T15:23:11.071Z"
        }
      }
    },
    {
      "cell_type": "code",
      "source": [
        "ncards2 = ncards.copy()\n",
        "#scores = []\n",
        "for c in cards:\n",
        "  winning, got = cards[c]\n",
        "  matches = 0\n",
        "  #print(got)\n",
        "  #print(winning)\n",
        "  for g in got:\n",
        "    #print(g)\n",
        "    if g in winning:\n",
        "      matches += 1\n",
        "  \n",
        "  for q in range(ncards2[c]):\n",
        "    for m in range(c+1, c+1+matches):\n",
        "      ncards2[m] += 1\n",
        "      #print(\"m\",m)\n",
        "  #print(ncards2)\n",
        "  #scores.append(cardscore)     \n",
        "  #print(c, cardscore)\n",
        "#sum(scores)  "
      ],
      "outputs": [],
      "execution_count": 54,
      "metadata": {
        "collapsed": true,
        "jupyter": {
          "source_hidden": false,
          "outputs_hidden": false
        },
        "nteract": {
          "transient": {
            "deleting": false
          }
        },
        "execution": {
          "iopub.status.busy": "2023-12-04T15:23:11.922Z",
          "iopub.execute_input": "2023-12-04T15:23:11.959Z",
          "iopub.status.idle": "2023-12-04T15:23:12.966Z",
          "shell.execute_reply": "2023-12-04T15:23:12.968Z"
        }
      }
    },
    {
      "cell_type": "code",
      "source": [
        "sum(ncards2.values())  "
      ],
      "outputs": [
        {
          "output_type": "execute_result",
          "execution_count": 55,
          "data": {
            "text/plain": "5539496"
          },
          "metadata": {}
        }
      ],
      "execution_count": 55,
      "metadata": {
        "collapsed": true,
        "jupyter": {
          "source_hidden": false,
          "outputs_hidden": false
        },
        "nteract": {
          "transient": {
            "deleting": false
          }
        },
        "execution": {
          "iopub.status.busy": "2023-12-04T15:23:13.505Z",
          "iopub.execute_input": "2023-12-04T15:23:13.508Z",
          "iopub.status.idle": "2023-12-04T15:23:13.522Z",
          "shell.execute_reply": "2023-12-04T15:23:13.529Z"
        }
      }
    },
    {
      "cell_type": "code",
      "source": [],
      "outputs": [],
      "execution_count": null,
      "metadata": {
        "collapsed": true,
        "jupyter": {
          "source_hidden": false,
          "outputs_hidden": false
        },
        "nteract": {
          "transient": {
            "deleting": false
          }
        }
      }
    }
  ],
  "metadata": {
    "kernel_info": {
      "name": "laminart"
    },
    "language_info": {
      "name": "python",
      "version": "3.11.6",
      "mimetype": "text/x-python",
      "codemirror_mode": {
        "name": "ipython",
        "version": 3
      },
      "pygments_lexer": "ipython3",
      "nbconvert_exporter": "python",
      "file_extension": ".py"
    },
    "kernelspec": {
      "argv": [
        "/Users/lisa/miniconda3/envs/laminart/bin/python",
        "-m",
        "ipykernel_launcher",
        "-f",
        "{connection_file}"
      ],
      "display_name": "laminart",
      "language": "python",
      "metadata": {
        "debugger": true
      },
      "name": "laminart"
    },
    "nteract": {
      "version": "0.28.0"
    }
  },
  "nbformat": 4,
  "nbformat_minor": 0
}