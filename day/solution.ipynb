{
  "cells": [
    {
      "cell_type": "code",
      "source": [
        "with open(\"input_ex.txt\", \"r\") as file:\n",
        "    for i, line in enumerate(file):\n",
        "        stream = line\n",
        "stream"
      ],
      "outputs": [],
      "execution_count": null,
      "metadata": {
        "collapsed": true,
        "jupyter": {
          "source_hidden": false,
          "outputs_hidden": false
        },
        "nteract": {
          "transient": {
            "deleting": false
          }
        }
      }
    }
  ],
  "metadata": {
    "kernel_info": {
      "name": "laminart"
    },
    "language_info": {
      "name": "laminart"
    },
    "kernelspec": {
      "argv": [
        "/Users/lisa/miniconda3/envs/laminart/bin/python",
        "-m",
        "ipykernel_launcher",
        "-f",
        "{connection_file}"
      ],
      "display_name": "laminart",
      "language": "python",
      "metadata": {
        "debugger": true
      },
      "name": "laminart"
    },
    "nteract": {
      "version": "0.28.0"
    }
  },
  "nbformat": 4,
  "nbformat_minor": 0
}