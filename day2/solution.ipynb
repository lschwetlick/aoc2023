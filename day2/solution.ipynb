{
  "cells": [
    {
      "cell_type": "code",
      "source": [
        "from math import prod"
      ],
      "outputs": [],
      "execution_count": 38,
      "metadata": {
        "collapsed": true,
        "jupyter": {
          "source_hidden": false,
          "outputs_hidden": false
        },
        "nteract": {
          "transient": {
            "deleting": false
          }
        },
        "execution": {
          "iopub.status.busy": "2023-12-04T11:21:05.910Z",
          "iopub.execute_input": "2023-12-04T11:21:05.914Z",
          "iopub.status.idle": "2023-12-04T11:21:05.920Z",
          "shell.execute_reply": "2023-12-04T11:21:05.923Z"
        }
      }
    },
    {
      "cell_type": "code",
      "source": [
        "with open(\"input_1.txt\", \"r\") as file:\n",
        "    games = {}\n",
        "    for i, line in enumerate(file):\n",
        "        game_id, inf = line.split(\":\")\n",
        "        draws = inf.strip().split(\";\")\n",
        "        #print(draws)\n",
        "        drawlist = []\n",
        "        for d in draws:\n",
        "          cubesstr = d.split(\",\")\n",
        "          cubesstr = [c.strip() for c in cubesstr]\n",
        "          cubes = {\n",
        "            \"red\": 0,\n",
        "            \"green\": 0,\n",
        "            \"blue\": 0}\n",
        "          \n",
        "          for c in cubesstr:\n",
        "            n, col = c.split(\" \")\n",
        "            cubes[col] = cubes[col]+int(n)\n",
        "          drawlist.append(cubes)\n",
        "        games[int(game_id.split(\" \")[1])] = drawlist\n",
        "#games"
      ],
      "outputs": [],
      "execution_count": 42,
      "metadata": {
        "collapsed": true,
        "jupyter": {
          "source_hidden": false,
          "outputs_hidden": false
        },
        "nteract": {
          "transient": {
            "deleting": false
          }
        },
        "execution": {
          "iopub.status.busy": "2023-12-04T11:22:01.685Z",
          "iopub.execute_input": "2023-12-04T11:22:01.688Z",
          "iopub.status.idle": "2023-12-04T11:22:01.695Z",
          "shell.execute_reply": "2023-12-04T11:22:01.698Z"
        }
      }
    },
    {
      "cell_type": "code",
      "source": [
        "bag_contents = {'red': 12, 'green': 13, 'blue': 14}"
      ],
      "outputs": [],
      "execution_count": 43,
      "metadata": {
        "collapsed": true,
        "jupyter": {
          "source_hidden": false,
          "outputs_hidden": false
        },
        "nteract": {
          "transient": {
            "deleting": false
          }
        },
        "execution": {
          "iopub.status.busy": "2023-12-04T11:22:02.107Z",
          "iopub.execute_input": "2023-12-04T11:22:02.110Z",
          "iopub.status.idle": "2023-12-04T11:22:02.114Z",
          "shell.execute_reply": "2023-12-04T11:22:02.117Z"
        }
      }
    },
    {
      "cell_type": "code",
      "source": [
        "impossible = []\n",
        "for g in games:\n",
        "  for d in games[g]:\n",
        "    for c in d:\n",
        "      if d[c] > bag_contents[c]:\n",
        "        impossible.append(g)\n",
        "        break\n",
        "impossible       "
      ],
      "outputs": [
        {
          "output_type": "execute_result",
          "execution_count": 44,
          "data": {
            "text/plain": "[3,\n 3,\n 4,\n 6,\n 6,\n 8,\n 8,\n 11,\n 13,\n 15,\n 16,\n 18,\n 19,\n 19,\n 19,\n 21,\n 22,\n 26,\n 27,\n 27,\n 28,\n 28,\n 30,\n 31,\n 31,\n 33,\n 34,\n 38,\n 39,\n 39,\n 39,\n 41,\n 42,\n 43,\n 43,\n 43,\n 43,\n 44,\n 44,\n 44,\n 48,\n 48,\n 55,\n 55,\n 56,\n 57,\n 57,\n 59,\n 60,\n 61,\n 63,\n 66,\n 66,\n 69,\n 69,\n 69,\n 71,\n 71,\n 72,\n 74,\n 75,\n 75,\n 75,\n 75,\n 76,\n 76,\n 76,\n 77,\n 78,\n 80,\n 82,\n 82,\n 83,\n 85,\n 85,\n 87,\n 87,\n 89,\n 92,\n 92,\n 93,\n 93,\n 93,\n 95,\n 96]"
          },
          "metadata": {}
        }
      ],
      "execution_count": 44,
      "metadata": {
        "collapsed": true,
        "jupyter": {
          "source_hidden": false,
          "outputs_hidden": false
        },
        "nteract": {
          "transient": {
            "deleting": false
          }
        },
        "execution": {
          "iopub.status.busy": "2023-12-04T11:22:02.434Z",
          "iopub.execute_input": "2023-12-04T11:22:02.437Z",
          "iopub.status.idle": "2023-12-04T11:22:02.444Z",
          "shell.execute_reply": "2023-12-04T11:22:02.446Z"
        }
      }
    },
    {
      "cell_type": "code",
      "source": [
        "sum(set(games.keys())-set(impossible))"
      ],
      "outputs": [
        {
          "output_type": "execute_result",
          "execution_count": 45,
          "data": {
            "text/plain": "2439"
          },
          "metadata": {}
        }
      ],
      "execution_count": 45,
      "metadata": {
        "collapsed": true,
        "jupyter": {
          "source_hidden": false,
          "outputs_hidden": false
        },
        "nteract": {
          "transient": {
            "deleting": false
          }
        },
        "execution": {
          "iopub.status.busy": "2023-12-04T11:22:02.788Z",
          "iopub.execute_input": "2023-12-04T11:22:02.796Z",
          "iopub.status.idle": "2023-12-04T11:22:02.811Z",
          "shell.execute_reply": "2023-12-04T11:22:02.815Z"
        }
      }
    },
    {
      "cell_type": "code",
      "source": [],
      "outputs": [
        {
          "output_type": "execute_result",
          "execution_count": 36,
          "data": {
            "text/plain": "dict_values([6, 3, 2])"
          },
          "metadata": {}
        }
      ],
      "execution_count": 36,
      "metadata": {
        "collapsed": true,
        "jupyter": {
          "source_hidden": false,
          "outputs_hidden": false
        },
        "nteract": {
          "transient": {
            "deleting": false
          }
        },
        "execution": {
          "iopub.status.busy": "2023-12-04T11:20:05.031Z",
          "iopub.execute_input": "2023-12-04T11:20:05.036Z",
          "iopub.status.idle": "2023-12-04T11:20:05.046Z",
          "shell.execute_reply": "2023-12-04T11:20:05.050Z"
        }
      }
    },
    {
      "cell_type": "code",
      "source": [
        "gamepow = []\n",
        "for g in games:\n",
        "  fewest = {\"red\": 0,\n",
        "         \"green\": 0,\n",
        "         \"blue\": 0}\n",
        "  for d in games[g]:\n",
        "    for c in d:\n",
        "      if d[c] > fewest[c]:\n",
        "        fewest[c] = d[c]\n",
        "  p = prod(fewest.values())\n",
        "  #  print(p)\n",
        "  gamepow.append(p)\n",
        "sum(gamepow)"
      ],
      "outputs": [
        {
          "output_type": "execute_result",
          "execution_count": 46,
          "data": {
            "text/plain": "63711"
          },
          "metadata": {}
        }
      ],
      "execution_count": 46,
      "metadata": {
        "collapsed": true,
        "jupyter": {
          "source_hidden": false,
          "outputs_hidden": false
        },
        "nteract": {
          "transient": {
            "deleting": false
          }
        },
        "execution": {
          "iopub.status.busy": "2023-12-04T11:22:04.178Z",
          "iopub.execute_input": "2023-12-04T11:22:04.181Z",
          "iopub.status.idle": "2023-12-04T11:22:04.194Z",
          "shell.execute_reply": "2023-12-04T11:22:04.197Z"
        }
      }
    },
    {
      "cell_type": "code",
      "source": [],
      "outputs": [],
      "execution_count": null,
      "metadata": {
        "collapsed": true,
        "jupyter": {
          "source_hidden": false,
          "outputs_hidden": false
        },
        "nteract": {
          "transient": {
            "deleting": false
          }
        }
      }
    },
    {
      "cell_type": "code",
      "source": [],
      "outputs": [],
      "execution_count": null,
      "metadata": {
        "collapsed": true,
        "jupyter": {
          "source_hidden": false,
          "outputs_hidden": false
        },
        "nteract": {
          "transient": {
            "deleting": false
          }
        }
      }
    },
    {
      "cell_type": "code",
      "source": [],
      "outputs": [],
      "execution_count": null,
      "metadata": {
        "collapsed": true,
        "jupyter": {
          "source_hidden": false,
          "outputs_hidden": false
        },
        "nteract": {
          "transient": {
            "deleting": false
          }
        }
      }
    }
  ],
  "metadata": {
    "kernel_info": {
      "name": "laminart"
    },
    "language_info": {
      "name": "python",
      "version": "3.11.6",
      "mimetype": "text/x-python",
      "codemirror_mode": {
        "name": "ipython",
        "version": 3
      },
      "pygments_lexer": "ipython3",
      "nbconvert_exporter": "python",
      "file_extension": ".py"
    },
    "kernelspec": {
      "argv": [
        "/Users/lisa/miniconda3/envs/laminart/bin/python",
        "-m",
        "ipykernel_launcher",
        "-f",
        "{connection_file}"
      ],
      "display_name": "laminart",
      "language": "python",
      "metadata": {
        "debugger": true
      },
      "name": "laminart"
    },
    "nteract": {
      "version": "0.28.0"
    }
  },
  "nbformat": 4,
  "nbformat_minor": 0
}