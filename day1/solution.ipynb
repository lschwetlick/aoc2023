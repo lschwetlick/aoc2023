{
  "cells": [
    {
      "cell_type": "code",
      "source": [
        "import re\n"
      ],
      "outputs": [],
      "execution_count": 23,
      "metadata": {
        "collapsed": true,
        "jupyter": {
          "source_hidden": false,
          "outputs_hidden": false
        },
        "nteract": {
          "transient": {
            "deleting": false
          }
        },
        "execution": {
          "iopub.status.busy": "2023-12-01T15:18:05.692Z",
          "iopub.execute_input": "2023-12-01T15:18:05.694Z",
          "iopub.status.idle": "2023-12-01T15:18:05.699Z",
          "shell.execute_reply": "2023-12-01T15:18:05.706Z"
        }
      }
    },
    {
      "cell_type": "code",
      "source": [
        "inp = []\n",
        "with open(\"input_1.txt\", \"r\") as file:\n",
        "    for line in file:\n",
        "        inp.append(line.strip())\n"
      ],
      "outputs": [],
      "execution_count": 24,
      "metadata": {
        "collapsed": true,
        "jupyter": {
          "source_hidden": false,
          "outputs_hidden": false
        },
        "nteract": {
          "transient": {
            "deleting": false
          }
        },
        "execution": {
          "iopub.status.busy": "2023-12-01T15:18:07.214Z",
          "iopub.execute_input": "2023-12-01T15:18:07.216Z",
          "iopub.status.idle": "2023-12-01T15:18:07.221Z",
          "shell.execute_reply": "2023-12-01T15:18:07.230Z"
        }
      }
    },
    {
      "cell_type": "code",
      "source": [
        "inp"
      ],
      "outputs": [
        {
          "output_type": "execute_result",
          "execution_count": 25,
          "data": {
            "text/plain": "['kjrqmzv9mmtxhgvsevenhvq7',\n 'four2tszbgmxpbvninebxns6nineqbqzgjpmpqr',\n 'rkzlnmzgnk91zckqprrptnthreefourtwo',\n 'fouronevzkbnzm6seven47',\n 'zphgdcznqsm2',\n '4gjnmxtrbflgp71',\n '4sqvv1cnpn',\n '8sevengzfvjrhnsb6ddb8ninerkgkxthtfkvbcmqs',\n '1seven336',\n '86one34vvvgdngbt39',\n '37qdmsqzsq72clfntfxqfrhbxtmfourzcjxfmmfz',\n '3rxgts',\n 'skhcdbnrninethree5',\n 'qtkhfdsixnine3bvpcpmjbzjonefivethree3',\n 'seven4six51zlrvqmbgpzplxtk6ptcr',\n 'eightczxhbntwo9sl83',\n '42m1ndvqkz16seven',\n 'three9oneeightmqbtwo',\n 'vt81pzcchsvz',\n 'eight6349jr',\n '8czmcdhjzpsbpjgngdvtxczgsl6th36',\n 'gbddhhhhkgjltwothree57',\n 'pjjlddnvtwo884',\n 'eight5fbcxqlqkplm',\n 'cdzgbtxbzl43vvnx',\n 'onefxtprsml8fqptvmfthreesix2jbeightwor',\n 'nine8twolrpzp',\n 'eightvjdzfmqlvceightnine6rlpzkdmk',\n '8tqmjgpfzrnineeightpcfltmzn8',\n '9nnnh',\n '49onefour7fivezchhjrpbmteightwokrs',\n '7zqhjkjkmm7448',\n 'ninebndfdjbxx9sixltsjbsbgone45kpcln',\n 'zhqkrndh5',\n 'p61five44cvgxlgkdseven',\n '8two4kpdxdf',\n 'two773t1rcdvxldjrjjq',\n 'lnqhgfivebdhpshzfiveonefivejsqzzdxq7',\n '72vlqqdtwo4xdzlreight7',\n '27zpq4one',\n 'xczj475',\n '2two3seven9rshkhrjzlv2',\n 'onethree222',\n 'fgeight6threegkjcgzjsfxqksgqvhnrhqf',\n 'sixsix8twotwoone',\n 'five3qr3two',\n '76zxcjmfq',\n 'xchtklzgtwo4lbvnsix',\n 'cffmlvmsvnlrtgkstmqsdone9mdlkdgpgeightwogd',\n '3onethree',\n 'lrdtfive3six',\n 'foursixsixntwoeightthree9zmcmxdn',\n 'threefmqjzhzdseight8dfkbstnineeighttlzhjrrgcl7',\n '7msqnfdbbseventwofivesixrrqgsvxn3',\n '64dlmxn',\n '3two7vrv2rlqc4nine',\n 'rmxqpktrxsixsix634',\n 'tjlrqkj1',\n 'dthree2qhhnbeight5two',\n 'zjvvmskpnclgnfnjqr7',\n 'two425zfiveeightjmhznf',\n '113njjz',\n 'pdchljrdrlntkdn1pc8',\n '5twom9hpmbggpeightjnddsfbfpsslvvt',\n 'one52ctrkkc',\n 'dnbtwovcvxggsbsix219',\n 'fivetjmg5sevenjp',\n '131',\n '8two9khfl',\n 'threethreetcghqbv3rbnsdsk4sevennine',\n 'stlttkxrsninetwolftchdtcrpfivelmsmgcdpprqx1qh',\n 'sptb46rtrzhcmbf3seven7',\n 'six6tntbjjtsdnczlnbeightlsfplsqq6',\n '33bldlptj2twosevenxk',\n 'five8snvmzqcksix7',\n 'vx49six',\n 'three7sixfourfxfcljfdhfl6fgktbsxxrrp',\n '4csxnkvmdnfive2rkkppdqln',\n 'dpxhgssggqoneqsvp9eightjvgjrjbd9eight',\n 'five6xrrzpdp8five44hqxqbnhxslrjfh',\n 'fkpcdb2sltktfghhmxdtxxffssxztjngkthree4',\n 'ndhcxeightthree3',\n 'qrrslbfxklbxnine99lcdtpbf',\n 'mvmcg5three',\n 'g9one',\n '2ninegdsix3kb9ninerssqbpxgs',\n 'blfclcvsh8seventwo8fourznjjssvtlg',\n 'ppjdvrxb6eight37cnqmgl9dghbrgrnine',\n 'nine6zzcvprthreefive',\n '8fourshkcchfb4sixlv',\n '9tpqqs3qxvqhqmb2',\n 'fljrhvnr722threetpghbftdt',\n '2five2bhhq',\n '18jhhzczcncjnjjx',\n 'jgvzzrklz8svzfcgzgggseven',\n '8rdjdvmvcheightrvkpcmjnshhltgghf41',\n '9three4cffsxc5vhcvdcqtv',\n '86tghvbgthreebkrgf6one',\n '331s2twonep',\n 'rtvz4bsdzqeightwodth',\n '3vggdskpcdjfivezpjgrfsqone4z85',\n 'xsftxsrk6threeconesevenncvs8nine',\n '3two2xjrqhrzjv',\n 'smdmb1gnlbvkq5nrmqmc',\n 'qmmpthreenine7sixczhlfttvphzkbqnm',\n '2rmsrzrbgfjrones',\n '81bmfddsmngkqpq5zsnrcnhqt',\n 'two1lzf4two',\n '4sixonetwobzvll',\n 'eightpggvssixfivelpm4three1hz',\n '77nine3ninefive7',\n 'oneninerhplrfsxlltwonineszhdqskt9',\n 'lxvtzvjzrreight931',\n '38z',\n 'zfxtdnbqtwoseven1grtpbonenk',\n 'fivesixkbzcbvcn76pdclljqsix18',\n 'mrxtfour5vkkmshbmpx2fourtwocpdzkmspqxqrvf',\n '8sevenfiveqvbsnine',\n 'onetcdfdtnsthree21four',\n '3zqcbvdftwotttfdvtmtxvhrsixtwo',\n 'lqmxvcplqs8bhsixb97',\n 'bmvxz27sixtwocvhtmqlls73',\n 'five1lvzzbv',\n '5oneqdcztvjsqmjf6',\n '61hjj4onetqlgkllr',\n 'sixthree9five',\n '8sevenjqgvlfoureightqnghxptsmc6xmrrnzd',\n 'ftjbhzkmvtwooneninenine9sevenqgb',\n 'onesixtworksmtc3',\n '3oner65',\n '3trmpzmc622',\n 'seven14',\n 'xfgbmsixeight6twocsevenzx6',\n '3xfdpbpnzzkdrbmrdjrtsrvx37',\n 'nflclprfgnt7',\n 'fiventkj8three4twolkrztseven',\n '19tbgcfourseven',\n '9onefour54seven',\n 'hkmfqcnpncfzgrplqq9xqklcb',\n 'ninemxhkpspbqn69zmlsbtsevensixfive4',\n 'zvfmhfjflscnqskzgnz74jlxrzm3',\n 'fiveeightvdqtlcfzzrpfd7eightwosn',\n '2nineone7fourninethreeeightsix',\n 'ppzf4five9threeseven',\n 'six1kzczzlssp84three',\n '885dlzlnnfth1xthreetfm',\n 'vqmntfbqgt6four57six5',\n 'mqgmbp3',\n 'threesix3one33seven',\n '46sixptwoone1vnnqlmrr',\n 'vvmcjdbjbthreeljznqhh5ztwodj8eight',\n 'rxhxx6ninesixeightrxffqrgdqx',\n 'ninefive2twoccpxbfcfkzpzhsf243',\n 'fourmvxpxsglhthreeone4jlgsfvxhmmjt1eight',\n '9crfpmnine19four6vkbsdfqn',\n '6ninekxjcfxfthreejpfmtjjbeightone',\n 'xknxrr6threeglmjzxpvxmfivethreezn',\n '7five737',\n '1qstxdtctlk94gtnqvfxmbjtnlkconetlkdmqgrxz',\n '6mgqtjq',\n '4pt',\n 'eightjkdl54one5eighttwofour',\n 'ttjblsrrl2three',\n 'mtwone8onethreecprdhtdgxvdqcptplmsixtwo',\n 'tqlkbkjrclseven9lprrcpnxv5zs',\n 'seven94mgljdpp8fourfour',\n 'htxchhjv6fivethree',\n 'gprqsxbnlpls2two',\n '7cjtrglplbm7pdbvjtnineonerqnkt8',\n '8onezjrxcsfjfoursz2seven',\n 'mcrpvnlsix8fourdblmxkhcsx',\n '413zsixhbsxqsplhz',\n 'fxqthree99',\n 'onenine46twotwoeight5three',\n '2559nhlsgmknq',\n 'sevenonexzxgxkhvln1v',\n '68',\n '7dcbpcxrm87crhzlmfgk58',\n '36one81foursevenfourpcnjgf',\n 'eightxlbgssonerjfone7ztfftmn2one',\n 'eightzkvcbzmceight5four',\n 'four79ninefive9sixh5',\n '2lmggjph5eight',\n 'ninetwojhzxf5kpfp',\n '7xvnbfbzpspbfxlpsfrzteightqtvdxnlkp2seven8',\n 'lgblvsjdrnjqfgxlfqh37852six',\n 'jtrnmqseven6bqbsdvtzd8ppzmnfmdhkrd',\n 'seven5seven676fivelctxb',\n 'mctbkczczspvhjfhfivesix3gtnqgkjzc3',\n 'psnhmjsix9',\n 'four4nlrhxflrrtxsixeightwosk',\n 'npkxv1grrrrbcsbq67538',\n '35thrcjrkrdptwo',\n 'klsnbcjfpdsrfnsclvnfczjfsixqpdhmmfmcqfive4bmtpctone',\n 'zxkncsrktnrv74eighttwonine',\n 'jdmfscrdlbj2brseighteight',\n '8ktjrzprt8khpvszbtn',\n '547jrxkhmheightfour',\n 'fivetwobpjrjczflhljvdlhl9fivernglhclznzfq',\n 'threenzlvrgjonenjbqnlfxhmfourone4mdnld',\n '6jbzzxsix9ninefivebdjmgnzcqqckkl',\n 'gone6sevencdmrdbrgh',\n 'cssoneighthmmxvqvbfflkjsixone361',\n '5onekpsevendcrzcgcs7hfvffksqr11',\n 'mfxjbzn9',\n '6nine4',\n 'cbljjfthree42sixkss5b',\n '36pvqf2cmvvzzdfour8',\n 'ntwone84three',\n 'twothree745seven4rsdlbtkoneightrbj',\n 'sixfivexfzfjhnzpfv8vz',\n 'four8five',\n 'bpqrcnj3',\n '45przmdflrrd',\n 'zcbpzhzq2nvjsk',\n 'xbrdcttltxnhdfgh33fivepthree',\n 'seven5six',\n '3three21tlfxhmlkqx9',\n 'sixkdxjtskknd1nrgbqxjsixbznjqhpfz2',\n 'eighthsfnljrpvqnzpkninebbbjfcshfq5one',\n 'nzqbqklqlsixseven56twoonethreeone',\n 'nfsixeight5jflseveneight3',\n 'sevensevenp63twoonevxlsgmcfvk',\n 'fourgncfdfoursix5mnlhvvml',\n 'sixseven66hrqjbkvfrjkmbg',\n '339lnhgjzxbdmfh',\n 'pvdnppdt3bxxqvdc',\n 'sixmqrcvtzdtsb4',\n 'two9xtsv5',\n 'fourdvt1',\n 'two2cbpqfgszpgbkrrbbnjzh1sixfourtqkns',\n 'sevennine6451oneninefourtwonenn',\n 'vbxrslkfour7four4qsmlhqvm3',\n 'foureightc3kjvmgtc6eightseven',\n 'oneone8bcpmdfcszz4kmrfrd',\n 'sixcqpbffcsctccd281sevensixeight',\n '6kxbhq5mnvt9cpbcpzslg77',\n 'cpjfplxvpzqfng4four516three',\n '3eightlnqzzsfhmndftc72',\n 'six2xsdhxgdlfnonenine46sevenseven',\n 'qdpdrkrt754',\n '5twosevenninerg6ninefcvgdtk',\n 'six31twox8sevenfourone',\n '8eighthplftwo',\n '41ninejdcvrlplk',\n '9hlnjcjjgdrhvmpvbmdzcmmzjtj2six',\n '3vpvdeighttwo',\n '4sznqlshqmninefourseven',\n 'eightthreeseven7',\n 'sevenfourzsfjplg1sevenfour',\n '34zbrvfjqckr8cknzsmpqc1seven7seven',\n '21shklthree59two',\n '7fivefive1gdtf8',\n '8gzfnxsp6hlpr',\n 'nineznbgntvcqjtft24threerkp1jlrdjhlg',\n '3414zzrxbgdvmp',\n 'fbjzjffour3lxzmck9',\n 'lsccprmgh1',\n '33two6ppjhfkcxpthreejm',\n 'sixsevenseven33',\n '3rphhpfdbh1cbmonetwo7five',\n '8hqmcqxcj6two1eighthbkcvvvt',\n '63fourrtfztfvonesevenseven1',\n 'd9ggdsxgnxvdlqhclgstn7',\n '5fourskvdvntzgmrmsgxqzd',\n '11onenine4eightsix',\n 'three4sixkrgfour9fourtwol',\n '8seven2pthreetjxzhrzvxrrfpdfnxsdbshrtnqgmzxsg',\n 'twonzbbtjkvtbcxrtszxmdtffkdndzqdfffxckznine5',\n 'two5rljthree64n8seven',\n 'fourninetwopnhzzrdmng4',\n '7vfivemlqgctmzrk',\n '85d7onefour1',\n '9nine6xddqgvth3six6',\n 'fjszdfnmg7one',\n 'm2',\n 'threenqglsjplgbpsixfour7fourninefive',\n '4bszvrqdvninesix6seveneightmfrgnxftkvchk',\n 'xnstcjndqzthvczfninendvksmmzzxsjt5',\n '413f9sevenninesix',\n '21mthreethree',\n 'fourmpsgpone6txh376eightwods',\n 'onetwo1ninefourfive4twohbb',\n '7hpxlcsh7',\n 'cqtwoneonelgjmxxjkv8',\n '6threetwotwo93nn',\n '1fmbdzfkkcg',\n '4mqfpxjhmmzfive9sixsevenhckjrrzxqcxnfppjchrh',\n '55xcxtfour',\n 'gbpcvzsklsix7eight',\n '83seventwoseven7ninetwo7',\n 'hdstztbpg8twofbtfeightninemzgrx',\n '78kzbqq3686bsnmvnchts5',\n '689113fbgjtjd',\n 'nine1threesevenninefour',\n '6sevenfxrhbxktxfive',\n '3lhpktqh89two4bpheight',\n '85three1dgvtjtg6cdtkhccnhhjfbsxdc',\n 'ninebvvhmlkrkllhjsl4five1',\n 'four7pvbvqjxsnfh',\n '882qtlk',\n '8onetk7eight8four4',\n 'cpkjmtpone68twojcmjbfsj7sixtwo',\n 'nineslzthree8fqtfckjdkl3',\n '6five9pkl',\n '1nine48dlxscmvsvpxtcsqhpfxn2',\n '22fourthree',\n '8dstsdqpffkfivegqmrvqr',\n '6rbdxrvxhsix44',\n '34three',\n 'dnkmhlzq4seven9',\n '5twohpxxfive8eight',\n '5eightz',\n 'jmmzbfk8ltkksfbbskcdrrgfnz21',\n 'eight1zqzr92two56',\n 'bvvmeight4twofour',\n '147gfslhl',\n 'dmfz59qsqmxngqxdlbhcxrqbonesix',\n 'nine8eight',\n '3ttzjhjdcqk',\n '62nine64ninebktrj15',\n 'mkdfdzxkbfctv47',\n 'vvhsvgjhhonenl7mrhdskxfrr',\n 'oneeightgqtp7fiverkvqjtsdeight1nine',\n 'eightonethree416gbqgnf',\n 'seven144',\n 'twoeightpprtlffourfive5jfjdvcvkd8',\n 'jppmcvlzrg96',\n '8eightonesevenzcvknjfvdkhrrzfmeight9',\n 'cm97three2',\n 'eightzptfnlgpfive6prrgtjone7vbnfml',\n 'threethree1ljbsfqcrsix',\n 'njnpsxlfivenine28two',\n '95dneightsevenxdtzbk86',\n 'eightm399lthreeoneqbjjjtwonef',\n '2kzxgfmcseven6qv7eight',\n 'bkrkfdfqbbcl84sevenfourpjf',\n '552',\n 'lmccgmxbzfour16zlbrrcgpln',\n 'nine7ngkjczfv7ktmvvgqb',\n 'qcqtseventwolg8',\n 'foursrbl91rsvtlbqdn6five',\n 'sixhvszbkncglchflsevenoneone4fivenmrcgkkvpk',\n '1threetwofive4fiveeight',\n 'seven8ghsqbmfzvpzbvvrtmxnhf',\n '4sixfive',\n '3six3sixfourseven5',\n 'hsbprzpjfhflrggjdpdsn23five',\n 'zzjqrc7',\n '737rmjmftkrdkvgs6five',\n 'sevenseven81',\n 'four69hdsevensix',\n 'jjgqr5pqtwo3one5cgkftvz',\n 'seven3threeseven1n6',\n '7ninenxktnbfiveeighthqmfdlkb',\n 'cgrztlh4gsdfjqzqvr2znxzkrjrkmd2eight1',\n '87eightfourdjbbjkpfpqrqmtfdhjrrfive',\n 'qqbglmxcsix8vftfivefvpfivevzvtz',\n 'fourpcksixjslx26six7',\n 'mfgleightc15frgtvxdnfour37',\n '67qbqpsgfcfgsccdt4',\n 'cfpjlxh16',\n '21sixslgcrgc3two',\n 'kmgfivextrdeightnine8sl',\n '6eight62fivekj2clfk3',\n 'fivetwo5three6',\n '9rzdrhvf4',\n '62fivetsceightfive6',\n '847gnmgjjksvdbkklpqsbfbzsffmm',\n 'cdtbhbfvgkkh7vhbcqkbjkkcrkhxfive',\n '7onethree3pnsfbhqsgpkgvncs26',\n '2jkfqkc',\n 'sevensixztcfmt88',\n 'nineeightxsfivekfv5',\n '5one5',\n '48jjvh4rprbgqzpgr',\n '23six',\n 'vztbppbsevenfive88gpmgjkq',\n '2hpnxbssr',\n '2jkgvrsevenntvzdkjzsmnjtcllttbxrnddmjceight',\n 'snn2cmvphzbbjlphrdkpqnqssixtwo',\n 'threeeightrbeightsevenkcfpn5qjmjbtc',\n 'l4four',\n '2two1',\n 'two6zmzvkx5nine',\n 'sccjntwo9',\n '6twothree9nineq',\n 'nine749sevensmvggvmfxghvmp5',\n '4six7sixeight9',\n '3seventwoxjmh76gllshjm6',\n 'threesevenxkftjzmpc6',\n 'rs4onefhnzkt',\n '6dprgnfhhfhnglddzksbk922',\n 'oneninejgcmvkkhxtsrmgqvninerpqmlmm89',\n 'cdvvddhxc1dtrzjl7nine9rxxkgb',\n '71chdqhbzps8sj',\n 'nkqpjmvjkzeightfourthree9sevenfqffcpbdsfks',\n 'kjtzdpxnmcvcsixbzcvdnzhnbkn7',\n '3xnvkmxqhgnzfour5',\n '4sevenxftdgseven94phsgkflqbpgjs',\n '98jhbgtdlrmjonesix',\n '86625three2one',\n 'onefoursixone8bphb6',\n 'eighthkzfnllhk3onethreezfttbtqljd8',\n 'peightcfdlhk9dvdtmbqgcone',\n 'ninefqtnjkqvrfbj8nine5',\n '5vtsntrvfivelpfln3kpkskrbrhbnhrncthree',\n 'nine6rpdsrkhzrqthreegkdlhxvzvfzmfive4krbdxjxtjr',\n 'eightseven3nine8threethree',\n 'sixdvqlt5zp3threemszxfdfiveone',\n 'hrtwovfive8ssfmbfsztwodthdlrxtjfive',\n 'qmlzrzfj2ccvztbn314',\n 'xvcgcljm6seven6',\n 'two7787fivesnine1',\n 'twodlhhsqseven8twosevenfour9',\n 'gktrrqrffg6sixkpbtldbzj35seven14',\n '8fivexnxsseven6hjdbbhxlt',\n 'cfzmmoneninefour4',\n '823eighteighthsonenzt',\n '4four6eightkdqljeightthree',\n '5jdpdgml22four',\n '6threefive7eightlzdlcxfvthgrlm7mjkmx',\n '6pldrbjfceightbnktrtqgtrxbt',\n 'b5seventhreexl',\n '194zgeight54',\n '7threethreez1sixthreetwonemr',\n 'zcnltvvhjr5vvdvkbnn2',\n 'frcdgbkjmqqzshjkfsixzxkgvmfrkfxqjpbgn5zgsn',\n 'sixonenine6',\n 'twotwoninenine6ttxh',\n 'nine4three32',\n 'four9three6bgbsqq',\n 'seventrseven1three7jxsmnrnlgdf',\n '2sfflb',\n 'twohfcr5one',\n 'fivetwohgrqtbhx619twonedv',\n '9lcsvtveightninerfxkxvzgpl',\n 'sixeight6sixfivethreeoneqj',\n 'dfourktxv2msshb8seven12',\n 'sgljk4',\n 'mjgk11eightrlbqpdl',\n 'jfdrflpxh489bkjtlj',\n 'pftppcr85three',\n 'onefivemfsfk3five',\n '5x7twoseven',\n 'cqkz8sevenfiveninefnbrht2nine',\n 'ninehhm2three986foureight',\n '63ljkvtrtwo9g',\n 'dqfour95fiveseven6',\n '8twozthreetwofive',\n 'six91fhzjs',\n '1slknxtrv',\n 'psxvkdcsdldxjninejfzblssv5z',\n 'bczst26r',\n 'btoneight79fninejvhvdccnhtwo',\n 'onejcnlqmnhjeight34z5',\n 'clbqcdmzc4mjlxgfournineddtlj6',\n '1pqqphfgqv5nine',\n 'five2tvzshsixfive',\n '8ninedhvzbsvcqgone',\n 'bqlgonesix7',\n '75bltzpqpntwosixtwo',\n 'onefxlvlqseven47twoslgffq',\n 'nsrnltmf4',\n 'mgshfseven33',\n '2p24',\n 'jklglqrone3qmjbdgpgzmznd',\n 'eight23fkgb2',\n '187two',\n 'vlvncjgmqtwo5771sixftz',\n 'lzr9',\n 'chrshzthree5641nine',\n 'rnnqlfgfmpscnmgjqvq84',\n 'gzltjddjpb937',\n 'ninethree5',\n 'fouronehvmmfrcgjcnmgcgkjnctnvvqftmdgzds89',\n '6xjone244',\n 'ninefour8four',\n '49threeq95five',\n 'gpeightwothree8lsjgjfourninehseven5',\n '2kfmzscsvssseveneightsevennine7bfct6',\n 'cbmtfpvsevenvsbbcpkzlqlgsixfghzrnn28',\n 'eightpslnsnnonemqxmmhch42six',\n '2one42bgllqb2',\n 'rjshlfvkkgqzsnttwo3vfourgkplcs',\n 'eight96',\n '16qng4fiveseventhreenine',\n 'bldtndftseven9qhhxgmgxd2',\n '219ninebklfrvppfmzrjnv9g',\n 'jvzdghjjv298zkssjc714',\n '1eighteight',\n 'onejkzeight7seven',\n '37five4',\n 'zxqrfpr7lnsqmcrtxkpvxkzjgdsmncvqhvrmnvqzkl',\n '1dxfivepqbvrp3',\n 'krpjpfxbrstwosixkr3dceightwoj',\n '5nineeightjbfzclpdjone2threebddbpxrcjf',\n 'rqlfljnktwo57',\n 'tsleightwocdzzmgpxsix4seven',\n 'xdvrspvzbx2',\n 'jlbvjskhsnttvzdlhsveightthree9',\n '5one7jlsnzbbbzxkvrtd',\n 'foureight6rpsrtrrzcnvtc8mdqzdxnrsqtcxkskd',\n 'gtdxgdj2jlhfltkbmq45zhqcqmzbfninenrvvqcj',\n 'seventwoeightonebkcbxqpdhn42',\n 'rrqchvstrmfive3mzmvcrprssbvthrg1twotwo',\n '414nmdkhgfive7seven1llbpxdv',\n 'eightfivecflctsdvs262nineseven',\n 'sixfive71sthtxdgbbtntqpqnltmf83',\n 'kboneighttwordldqjvvkh4ctntmtvsv',\n 'jxmdndmtxhqndfptmnine8three3',\n 'cvmqjmbsm2c3onecvftwofourtwo',\n 'one7fkckcjknb2l',\n 'onefnbtgpqkghcxlgthreevvlxp94jdrgfvpmf',\n 'eightjxktztgfgpnine1threexgfklt',\n 'six1llzdnkvn4twotwo',\n '7mfnnptwosix2five',\n 'qgzftjcdgs45fivezzvrtjonep',\n 'boneightnxggjksdcg8',\n '2three7mfqvtzlk',\n 'fxg8gsffbl84pjvk',\n 'sixpj5',\n '4qbvpfqrnplq2snsfive1hnmkxgszqdseven',\n '9sixcjnqgxtzh4',\n '2sxmbjxfive2',\n '9kqcndbqfvs',\n 'kvrhxlsbqh7fivethreemmflkfq',\n 'khonesix28',\n 'nineeightvhncnbtbp68fone',\n '8eightnine',\n 'four71eight',\n 'nnvonethreepktq8threed',\n 'x373one',\n 'flv3nlzxszdbhbdcntp',\n 'vm76xr',\n 'pksrznbsfg4',\n '7twobsxjrz1eighttscqzfl',\n '6sixoneightnc',\n 'bnvvfour7sixzgxxgctdvfive',\n 'qrxoneight7vsdlprzmvneight',\n '5blqzhrdr8ptwoseven7twonefh',\n 'j8',\n 'three3938ninethree8',\n 'ctvc2',\n 'sixqdmvtwosixpfour3',\n '86xqkfzzn',\n 'dcjxcj4sevenkglhzcthreesvbkcgxkg',\n 'sixcqncsgn6cqfvcl28three',\n '4five6fivetwothreehtpfqvfnvteight',\n 'rdcmt3',\n '4eightzxxfvrp4sixz',\n 'sixsevenhcf13qfdnnqml',\n 'sevenqzflnkpppvdln5mcztone',\n 'twosixqdqdscpzfvzxx4',\n 'seven3six',\n '48four8',\n 'kmsflcqndhnl3onedqfkd7seven',\n 'lrtdllmlz3smpvmhsggfjrvheight42fl',\n 'vpftvkgzmjl57qgvlsd5',\n 'bkbrkjtpmtwo2gpmkjxnxlfive',\n 'eight7three8twonbl',\n 'nflq6nine4qrpzclr7',\n 'onefour1hjndfpkndthreetwo2',\n 'gphthpbfeightmsvtdp2six',\n '98two6threemqnscvg3seven',\n 'kbrqglhqseven3onetwo13',\n 'rvzddkzftqlnine8hngltmmz',\n 'fkeightseven52hptcfivengnrj2',\n '7sevenfivefourrdbdxh7',\n 'pnjpbvlrd2jfivexflcbseven',\n 'four887seven9lc2',\n '4sixlsxxlqqvpxxhrlhqc',\n 'cq5four8',\n '7threedzdp527eighthxjtzfxv',\n 'bdlhgonexrjsfvxghxxchcdd3dpltbbklpvbszm4',\n '6twonineeightkvhlhlfm',\n 'nine6krqqzfive',\n 'eight8qzkhfhm',\n '3eightsevennine',\n 'eightx38fourf88',\n 'qkjxldk8418n',\n 'r15xhtkntq6nxcqvrmfpbvcponeone',\n 'ztgf92',\n 'five9vbqlbvkksixtwoone9',\n 'onevjbktjqn4onebxml1gckfssxst63',\n 'fhrhvvst9fivefourxmspzh',\n '3six191dbxtkm',\n 'mq5vczknqlqdd4eightvpv',\n 'ffourthree4',\n 'four4rvcrlbb96',\n '95ninelttmq9',\n '9fivetwothree71five7oneightrt',\n 'zvhmfqbzfjtrv19h',\n '57eightvmqfvrjg9',\n 'r2lszmztwo',\n '5919xj',\n 'jkmrvxgmzrflqtzkc44onenjftxgm3',\n 'pmjpbdxpgctkninelpgrdjkrrzdpf2',\n 'dxveightwo6psqffzhc5jc',\n 'seven5ftzpsvcfzhhtgpdtghpxfmhfjvppkone',\n '822oneoneoneightct',\n 'mhzjmppgh7cqpxkmdtlthree1vgkqxcfvpgtwo',\n '78bbrbspqpjkjcprh',\n 'eight7hdgm',\n 'rpvrvrqtgc87',\n '6oneqcntnrblvqmm2',\n 'nbsoneight7',\n 'hxfzqzqvsnfive4five44ctbldgcpg',\n 'fxvnkksjcz77threemgcgzfrbqzdqtfgnine',\n 'qcl45q17',\n '3gdqztrfjcmz',\n 'threebkcvccgsrrp77onetwoccrmtwo',\n '1vmvqqjg58onetwoeight',\n 'jknhpr85stqcsfbrbm',\n 'three941rlqcpcjmffivecqgzbzjl',\n '44dnnvrlgqsixone',\n '4kkxgggmcbn4bqjrcvdbd4vcgxsvsrk',\n '8fivemgvrcxlhsix4',\n 'twobvccclhj6vtzfhtwofiveninehqsnvcxgfourtwonexrv',\n '3sixvzzdkblrhlgbplqkqeightsnlncvqcxqsix',\n 'six9jgsrxknfmfv5four4seven',\n 'fourthree1',\n '1xndxzh',\n '2znktjrsevenrgvc2tcmbbxzj',\n '416nineonebgnninetwoqlpglcvcxc',\n 'gone9bjv8',\n '2gltwof',\n 'hhonencqn2dnzhjpfrs3n59',\n 'fourcjmsf3',\n 'mtwothree82four',\n 'onefivetwonxv5',\n 'xgvfxzfshr1',\n 'nine15',\n '21rfhzxlngk2fourfm79',\n '3cdzbnrvqbbrklrsvxktmghrn6eight',\n 'two25gv8sevenkmkprbgzzlkddnine',\n 'fiveeightrscknxv1jlhzgjjrxktcvjgqkqqzjqdjgsixvqlhjghsm',\n '33nine39pfgsdtptzbqhfjppp4',\n '7nftkbhcgtthreethree44',\n 'fivefournrqbl3',\n '43fzvdptqnq',\n '499four1bdpvvvfnine',\n '9tt',\n '381ldxxmdsgtwonine',\n 'pmctnnbdzmxmqrdgcj8sxbpshfzxdnznvtldqj5',\n 'jnhtfjqfive7hvsxqsixnine1',\n 'cnhkqbhtwoonezhdlbxdtdk6',\n 'four5oneonefivehkzcxq9seven4',\n 'onefivexpfour2',\n '42six2threesixfour5',\n '8fmqpdhpjv1',\n '1bnlfgqnseven',\n 'tkzcs9ndthree2366',\n 'qttwone5711vjvonesix',\n 'nrp62ggmtwo87twofbkpbgtlr',\n '11cgcbfprckdrtzxqlckxhvbjqbslvvnchpkdqfg',\n '1nhkzggnnxhnrbkzjq3nine6one',\n 'zvhgzgpvll1dkvbdf5fourfgqqdnp',\n 'one1rkpsfddfh6four',\n 'hmfxqb9twol4dpfmz4threelkg',\n 'xlcmzqgrq7threetwo97',\n 'ntwonedz3dbgngsnshb6bdbtspkzzttvhphqdbz7mpkbpchsf',\n 'one586fivethree4ghcgjrqltgeight',\n '1eightone',\n 'seven96two2hjxp',\n '9two5bzzfzfive661',\n 'nine12ninefourone8oneightsv',\n 'pdlcdbgsc5',\n 'xnpbsr3fourrgjhdzgbxsfbvhhjlthree69seven',\n 'qtnxqffour6sixfour9cmnxsrjttonej',\n 'psshpgrbhnjhgr7',\n '428',\n '7twotwolghmqhkxthreefoursevenzmkzhvs',\n '13hcnzjhsix2',\n '7four5nxdq3fivesevenfivesix',\n 'hzfqzc2fourone34',\n '7tdr46hrdgjlzkptkqhmsffh',\n 'gqc76',\n '33376',\n '32three45kvlmcvmmh63slm',\n '842xbtj',\n 'lvjzkvqthree2six',\n '64ninentjfiveeightppljppn1d',\n 'four8fzvmnfourtwopggbxv',\n 'fivexftmjtmxdp7',\n 'sevensjmhskjnmpfnfj55xhgchqcgbsixdrtg',\n 'sixccttdcpvklgspscrbronefour3',\n 'foureightnine4jnm',\n '86twofour',\n 'fqrpnphnqr98nine7',\n 'fivetwo3',\n '8dbqjkxjfsgpsixsixeightthreepfmtsnk',\n '9sixonembbhvbmsfseven1',\n 'sixdsvdctxpchvgkggtwocvzvseven8onesix',\n '5lmbjk7nine7szmvnkmz2',\n 'fiveeightfive7xlcszxsevencrxdfzsmccb',\n 'lhmvzszvbxxq592',\n 'eight814srjh99',\n 'qdqzvx2sixjp',\n '4fbtjrxs',\n '9ftbf668sixsjninethggtdncsv',\n '4ninezzmbfbjn',\n '75nineonefivesix',\n 'ninethreevntrpltfttnlzgn7',\n 'fivefiveseven4seveneight9three',\n '89bspmdgzcm',\n '6jnnmhkfourfive63eightggchjtwonet',\n '6twocsjssxfnfxbqrqrhdfrlzfldf',\n 'xhlk7xdmg',\n '64ninesixhhmjhglhp',\n '6fourkm9mnnrbjpjtwozdgtrsseightwox',\n 'rjrldgmzthree5kqnjmxpmmr1threefiveeightbjjvk',\n '2bzsevenfour',\n 'pkkrrzlnm31gkfvfjpvhfivefour',\n 'jtnkdkldq285fiveg',\n 'tvzmqone8mqsfeight5',\n '9nineeight1vnsm6tx6three',\n '24gnthreebzz9six',\n 'dvcmqppn7',\n 'one5three3ninedqxqljq',\n 'five8gdtthree4jjnhbdkp51gtkmbnjzk',\n 'cvsgrlfdflhjp8dvfourninefive',\n '113three26',\n '6dhfrhjthreebslzctwo85vgjbr',\n '4seveneightzvbrjtvbvzcmzxshl9',\n 'five24kfrninepp7',\n 'onejlx6nsgqcckqfgkstnczpgmzcfx2rbqdvcjpr5',\n '2fiveoneonetzkqxs95ztchd',\n '1nineblthree',\n 'xndbmvlqlkq6pkzvzlplbthreethreethree',\n 'sppdbmqndkqj7',\n 'hcdkt8fdlqmkprg11seven',\n 'sevenseven84five6sjbsvkds',\n '9two3eightone5',\n 'dreightwolpqzcqsmqfiveeighttwoninesg9',\n 'vzplxbbt9rfftfmmvnine49j',\n '8ninetfvjmjlxtseven3chppcpt2gzfdpdm',\n 'nfbckqn7',\n 'four5threenine',\n '9threeccgvdstztf4',\n 'one772nineeight',\n 'fourfive2v387',\n 'five9dpbgxxjkg64',\n 'nvngsn9six32fivenine',\n 'pdctqmdvdpqbdqs49pgzfive',\n 'seven5trmnqnqgqprkdkxcsrtmzjccgrtbklnhnfive',\n '5kpjfc3rt',\n '47four',\n '61fourvz3',\n '3gtzzrsphbrkqgmfmgdhsixdskqqzhfoursx7',\n 'four4rfnhpqblsixcqhlfkdkn6',\n 'nine1nzrqg9',\n 'two5three',\n 'f7trxrqhfpg3fourpprkpvone',\n 'eighteighteighteightsixone2fivefntjsvkln',\n '992xtfbdstcnlkfxfour1q',\n '5bhhlkrhjptwoeight2d',\n '488',\n '2four8twosevensgtplsfournine6',\n '8jnsljdgdbbxzvvxrzhv8fourdvvcvmcsq',\n 'zqmthreekdvdd9eightcxkjckgd',\n 'eightninetwoeightfpznmztv722',\n 'bslvfrtgqb3seven',\n '3fourtxlrxjfskztwoeight5kd',\n 'kjgbpdxbrsv2twosix',\n 'eightfivesgbktt47sixeight3',\n '4oneninelpfjmmzcsq',\n '3eightsixseven7sevenxscsrrfc',\n '18dgvtgskkfoursix',\n 'one87',\n '386tworhzbhbtonesix3',\n '516xdqcsdpxpfhzbblg',\n 'nldnine15six59nine',\n 'seventhreegpqqdddh9five',\n 'dkktl5gnrmjgbfsfive7568scfgqvrqs',\n 'glfourseven2sevenqvpc',\n 'nine1cfttktvqjxzbb',\n 'twoqvfzx56one',\n 'eight1lzfkrsclhccxtwo6',\n '9one5',\n '1onetwosevensevenfiveztgmhfldthreeone',\n '4ngnpzvpvdz',\n '3452',\n '6lklgpxstsixtwo',\n 'tcpbcspsix4vdlvsqddfvxeight79',\n 'xhgxp7sbnbfsfxntspbncg48fivetwonine',\n '7eightgmleight9xbzlpgjqsix7jcsvplq',\n 'lmdbvbkpfive3qtkf35',\n '3xfszvbl',\n '2sevensevendrzzljmqcr',\n '1four2',\n 'mnhqcgffllnlhthreegneightcxbhz23',\n 'znrprxdtp9sevenoneightnk',\n '18ninethreetwo',\n 'fournineftpqcmsix213',\n 'eightlmgrjxdfl5six',\n '52eight495',\n '6twogmvhfrrzhkthreegplbmssixseven4',\n 'hvpnvkrmrqfivetwo6dlgtscdmfsq',\n 'ninemseven9seven',\n 'zfqfdz5sixbmlsvzckgvskseven8five',\n 'sixsevenjcmtgqtb1nmnmqggmc95',\n 'sixeight8fourseven',\n '6tppqxqsmljd2rjfffxbeight86',\n '69two1seven',\n '813three1eight',\n 'rttddjcrmc52eightcsevenvhxc',\n 'kvpgfbnrkzseven2fourgrghxjplqbgnbvpznbdhrxgdqzzkdgfdbqggbmfg',\n 'seven8eightfive',\n '3tgcnpp',\n '316ksn9twohrtgbcmcrdn',\n '1ccsfttwosix',\n 'eight1sixnine3cfvzlfh',\n '5twoxhmlzmvszm',\n '4ninefourhvqznsjng2',\n 'jzvdcjsdpmrdzbkvdfourfivefour9',\n 'lnlhncjthreeseven5',\n 'six8seven4seven4qtncq',\n '2threesixjzdzmlfsdmqc',\n 'threenlrd33',\n 'three3sqfmq7nine',\n 'jrgvgjlnlthree78kf',\n 'tgngldxnkzf2one8',\n 'mpmeight92seveneightsix',\n 'tninethqhpzlkzhgmkqsix574fsd',\n 'seven8five1seventhree5',\n 'jf533reightrxjdrqhsix',\n 'mxvnxmxmnvkfqcnzzpc1twoone3',\n 'four7twodlfxxrsix',\n 'gfflmcdlsix5fgthree',\n 'threecnqdtbvjxmgndzkkninedclqh78zk',\n 'fivesg8dhhthspm',\n 'sixmbsnvvzncxz4one',\n '8hkrb3oneightj',\n 'sixsix3gqtvqqnmtph8threexchpjtcxfj',\n '8399',\n '2hzngcnshdktwovcxchdqrh',\n 'five6ddcnpsdlllrmmnvmmsix',\n 'ninerxfpfsixone9',\n 'xrjphdrq3kdvlg5twoks',\n 'threegnklthree1rbthree3',\n 'fivenine1tftcphztmfthj23',\n '3h75eightfdnz',\n 'twoone4eight',\n '4783five',\n 'threeqsbhznhfd2jgjjggt8hmbdhstsix',\n 'seven2sixthreeglzvrcvlhfivenine',\n '9jht8xdhfrsjbhthree11',\n 'seven9twosix',\n '2rzzmzgbqggbqhlsdt2seven',\n '733eightfpljbfm4clqccf1fjgkgxdktz',\n 'ltvlb331jmp1sk',\n '5fourseven2kdd2vfour',\n '4sevenone18',\n 'lsscqvt7seventhreevcqvpjndvltwobkv5qgfhczmhxg',\n '659five',\n 'nzl231pzllsvcmpncslfmseight',\n 'nine8zsnkrnine',\n 'rlgzb95eightxmj',\n '5sixsixkstxnclx6',\n 'jkkxmn34nttqsrhdtkjl',\n '2mjkqdlfrjjnvbv',\n 'fourhqbhbxfvzkrplxqkckl55onethree5',\n 'bffncpr8tclcgtwo2',\n 'nbqtkrhnmrh9hvctrhjzvbqrs',\n 'vfxbqqxlpx1sixnine9',\n 'd2sixsixsevenseven',\n 'jtwonethreesixseven8fiveseven',\n '4mlvbpnxzmsrnzvsjlpbcxgsmvcqdmqqlrhj15',\n 'bskfxdmsixeightnbtdfpbtmgpddrkkczr9one',\n 'ng8eightfour5',\n '53ccpsnxndthreegcpjgkzbmvcrbfive',\n '4one2threedmb',\n '9kfscngdfrnine',\n '9four32skfdjfour22ltv',\n 'pgfourrntwo985',\n 'seven5cpvbsonefour',\n 'seven7onefive',\n '9pqspsbsneight6nv',\n 'eightdbsevenqdsh3zjgmlxlgpnjxjt',\n 'vcj7fzhmjnqjdds',\n 'rczjzrsrzfiverbzmpcjthree7',\n 'cvdqclthr9',\n 'twosixonefour1sevenmsb',\n 'tdrgmvlm343938qpvjd',\n '8nine33fivethree',\n '5hpbhcpkkgfour7sevennine',\n '1m',\n 'rstwonevngtsslzn2',\n 'sevenfiveoneninehfmdseven9bvfqbvvhbm',\n 'gonetwothreenlqxbpfpxs1pfrkgzjjk',\n '58three768qsrffkxp',\n 'eight4sixsevenfrjcfour866',\n '4seven3hpjfllmhhncq',\n 'fivesnbldvhsixdl4',\n '4twofive',\n 'rlrj15',\n '2sixpqspdfssix',\n 'five32lxgrrrbnntpqhhxcgcztqgtbsz',\n 'ncvnfivecnkdpjjpbh93ninejvqslxxpm7',\n 'kdfcfqrn9eightonebsix2prnbrmj',\n 'gsixninels229dsflfvnine',\n 'zjxvkq7cvlcggkskcccmcsconerszqnmfghnine',\n '4four1tlfnjgqzz',\n '78twonine2kzhqdgx169',\n 'bfive2fivegktdzmtlbf3jlfzdktsg',\n '35eightfive9six9qsnq',\n '3twobhf2fjvgr2',\n '2ggns35nsbcldmone',\n 'jpdqktwo4tdvh9sxslths7',\n 'ggkplvtgctpgzmxbmdt3btqmgsnmvqqxv',\n '5kntpbjz',\n 'nfqjskkntdlbsjzsjxvmjbfivemcbhkzrjdhvfqzqkbbbqv7p',\n 'five2nqcj7sixsixthreeh',\n 'fg3one',\n '4nineb1threesvbks2lp',\n 'xxlq9',\n 'rptjtqdgfghmxhv4239gptndhvjqd',\n '4lbbtzvcxgxnfbbv7',\n 'eightzzmcxmthreekkmq919',\n '7jpdvzs1threesixhctfdzpdlmxqgz',\n '97bzcqhdnpvmonesix4pfpsevenbjvctzqchd',\n 'tlbxlftmc73nineeightzktqfzqhxx9nine',\n '5six4',\n '4bxgmpcd1seven4grrdnine3two',\n '1lsfpdnmlzlkczfdqpbkdb5pjns6lqqnpvkrjsg',\n 'hzxppjnkhbtqnrqpleightggcgbrhm3',\n '7bzz199threecmnrn',\n 'five214qcppmkvzdq5six',\n 'fiveeightgvqnvcmgsthreefive2',\n 'eightfour6kds2',\n 'eight1seven5',\n 'xone3fivetwofivesix3qqqsvhmt',\n 'twogrfrrmkc4zkrpsp9two',\n 'twofourfour8',\n 'sevenlfive7psixonefour',\n 'kfxfgt98jvdrx',\n '45gzmzzxh',\n '2gvxgmtone7twoxqninenrqr7',\n 'twotwo1onexgtmdnvss',\n '4517seven',\n '7onensevenj6555',\n 'fivesix9nine',\n '329lbrn',\n 'xkzrhlcrfmrmfqlseven3five',\n '2877rfplvjbvjj15',\n 'mzzfdftbninesxsdxltwo79bsdvnine',\n '79tfnmsevennnmsdrgzlsg',\n 'kgmhkkq64threesixeight44mskzftd',\n 'vnjz8onemdnjfzmqcgxqonemspchrxlggoneightptg',\n '83hqrd1sixsevennine',\n 'fcbdjhdndjchqlvdv2sixoneseven4fhfhxrrrxeightwotpt',\n 'ksfbthjpczlghsgkfive6',\n '663krqxqlznine8',\n 'sevennineeight1nsk8mvblkzzz',\n '1seven74',\n 'tvqlxnzn7',\n 'mbrphrdzsvnlpqlfdfpqrmf2',\n 'two9pbxbt1fivecpp',\n 'six2onelffxlvkh8sixfive3six',\n 'fourdkqzfive9',\n 'reightwobp9bzpx71six',\n '2mconefour',\n '6fjpccfour',\n 'seventhree8one293',\n 'six3khrpvrhzgthree8two',\n '7357sixhsbgkkkfljlrmbx',\n '75twoeightfourbcgeight',\n 'ninenineone2two2',\n 'gfqhnhjgt762zfgpzdzdhh1',\n 'nghtwone5sjbhtzgseventwomdm',\n 'gphcvbvxfxdbnqcttt37',\n 'qone3nineqfqdcfc',\n '3eightnineonesixslhkjqgmreight',\n 'two5dfive56',\n 'seven9rk',\n '9six6seven',\n '1crhxcgsfqcfvgvrr6nine7tworzbvh',\n 'skbfn94hskkfzsvqj4eight',\n 'mbtkcgqj4mbfour8',\n 'blghkbbgx3',\n '6oneeightnine6',\n '1threesix',\n '1jzlbxmxbseven39',\n '65nineszqvcgghgg',\n 'threepcjrl1',\n 'n346seven4',\n 'oneeight3',\n '7vtcgkpgqqzcxdxrjmpbjone1pvxcjjtpdtcprkq5mqxkjpbqkd',\n '32skznxsevenone3',\n 'sevenninesrrcmxdgnq2vmlvdhj',\n '2nine3vcfivemb5six2',\n '5hx78fournine669',\n 'qszds3',\n 'six4seven2one87four',\n 'plxfoursc41five',\n 'sixfour9fivernqcknsbgpfrzmgz3',\n 'onesevenf78threedzvlm1',\n 'xlkdlhlk23four',\n '8ninejseven5']"
          },
          "metadata": {}
        }
      ],
      "execution_count": 25,
      "metadata": {
        "collapsed": true,
        "jupyter": {
          "source_hidden": false,
          "outputs_hidden": false
        },
        "nteract": {
          "transient": {
            "deleting": false
          }
        },
        "execution": {
          "iopub.status.busy": "2023-12-01T15:18:07.722Z",
          "iopub.execute_input": "2023-12-01T15:18:07.724Z",
          "iopub.status.idle": "2023-12-01T15:18:07.739Z",
          "shell.execute_reply": "2023-12-01T15:18:07.744Z"
        }
      }
    },
    {
      "cell_type": "code",
      "source": [],
      "outputs": [],
      "execution_count": null,
      "metadata": {
        "collapsed": true,
        "jupyter": {
          "source_hidden": false,
          "outputs_hidden": false
        },
        "nteract": {
          "transient": {
            "deleting": false
          }
        }
      }
    },
    {
      "cell_type": "code",
      "source": [
        "solution = 0\n",
        "for i in inp:\n",
        "  r = re.findall(r'\\d', i)\n",
        "  a = r[0] + r[-1]\n",
        "  solution += int(a)\n",
        "print(solution)\n"
      ],
      "outputs": [
        {
          "output_type": "stream",
          "name": "stdout",
          "text": [
            "55447\n"
          ]
        }
      ],
      "execution_count": 26,
      "metadata": {
        "collapsed": true,
        "jupyter": {
          "source_hidden": false,
          "outputs_hidden": false
        },
        "nteract": {
          "transient": {
            "deleting": false
          }
        },
        "execution": {
          "iopub.status.busy": "2023-12-01T15:18:08.527Z",
          "iopub.execute_input": "2023-12-01T15:18:08.530Z",
          "iopub.status.idle": "2023-12-01T15:18:08.542Z",
          "shell.execute_reply": "2023-12-01T15:18:08.545Z"
        }
      }
    },
    {
      "cell_type": "markdown",
      "source": [
        "# Part 2"
      ],
      "metadata": {
        "nteract": {
          "transient": {
            "deleting": false
          }
        }
      }
    },
    {
      "cell_type": "code",
      "source": [
        "inp = []\n",
        "with open(\"input_1.txt\", \"r\") as file:\n",
        "    for line in file:\n",
        "        inp.append(line.strip())\n"
      ],
      "outputs": [],
      "execution_count": 94,
      "metadata": {
        "collapsed": true,
        "jupyter": {
          "source_hidden": false,
          "outputs_hidden": false
        },
        "nteract": {
          "transient": {
            "deleting": false
          }
        },
        "execution": {
          "iopub.status.busy": "2023-12-01T15:48:02.259Z",
          "iopub.execute_input": "2023-12-01T15:48:02.263Z",
          "iopub.status.idle": "2023-12-01T15:48:02.272Z",
          "shell.execute_reply": "2023-12-01T15:48:02.279Z"
        }
      }
    },
    {
      "cell_type": "code",
      "source": [
        "inp "
      ],
      "outputs": [
        {
          "output_type": "execute_result",
          "execution_count": 95,
          "data": {
            "text/plain": "['kjrqmzv9mmtxhgvsevenhvq7',\n 'four2tszbgmxpbvninebxns6nineqbqzgjpmpqr',\n 'rkzlnmzgnk91zckqprrptnthreefourtwo',\n 'fouronevzkbnzm6seven47',\n 'zphgdcznqsm2',\n '4gjnmxtrbflgp71',\n '4sqvv1cnpn',\n '8sevengzfvjrhnsb6ddb8ninerkgkxthtfkvbcmqs',\n '1seven336',\n '86one34vvvgdngbt39',\n '37qdmsqzsq72clfntfxqfrhbxtmfourzcjxfmmfz',\n '3rxgts',\n 'skhcdbnrninethree5',\n 'qtkhfdsixnine3bvpcpmjbzjonefivethree3',\n 'seven4six51zlrvqmbgpzplxtk6ptcr',\n 'eightczxhbntwo9sl83',\n '42m1ndvqkz16seven',\n 'three9oneeightmqbtwo',\n 'vt81pzcchsvz',\n 'eight6349jr',\n '8czmcdhjzpsbpjgngdvtxczgsl6th36',\n 'gbddhhhhkgjltwothree57',\n 'pjjlddnvtwo884',\n 'eight5fbcxqlqkplm',\n 'cdzgbtxbzl43vvnx',\n 'onefxtprsml8fqptvmfthreesix2jbeightwor',\n 'nine8twolrpzp',\n 'eightvjdzfmqlvceightnine6rlpzkdmk',\n '8tqmjgpfzrnineeightpcfltmzn8',\n '9nnnh',\n '49onefour7fivezchhjrpbmteightwokrs',\n '7zqhjkjkmm7448',\n 'ninebndfdjbxx9sixltsjbsbgone45kpcln',\n 'zhqkrndh5',\n 'p61five44cvgxlgkdseven',\n '8two4kpdxdf',\n 'two773t1rcdvxldjrjjq',\n 'lnqhgfivebdhpshzfiveonefivejsqzzdxq7',\n '72vlqqdtwo4xdzlreight7',\n '27zpq4one',\n 'xczj475',\n '2two3seven9rshkhrjzlv2',\n 'onethree222',\n 'fgeight6threegkjcgzjsfxqksgqvhnrhqf',\n 'sixsix8twotwoone',\n 'five3qr3two',\n '76zxcjmfq',\n 'xchtklzgtwo4lbvnsix',\n 'cffmlvmsvnlrtgkstmqsdone9mdlkdgpgeightwogd',\n '3onethree',\n 'lrdtfive3six',\n 'foursixsixntwoeightthree9zmcmxdn',\n 'threefmqjzhzdseight8dfkbstnineeighttlzhjrrgcl7',\n '7msqnfdbbseventwofivesixrrqgsvxn3',\n '64dlmxn',\n '3two7vrv2rlqc4nine',\n 'rmxqpktrxsixsix634',\n 'tjlrqkj1',\n 'dthree2qhhnbeight5two',\n 'zjvvmskpnclgnfnjqr7',\n 'two425zfiveeightjmhznf',\n '113njjz',\n 'pdchljrdrlntkdn1pc8',\n '5twom9hpmbggpeightjnddsfbfpsslvvt',\n 'one52ctrkkc',\n 'dnbtwovcvxggsbsix219',\n 'fivetjmg5sevenjp',\n '131',\n '8two9khfl',\n 'threethreetcghqbv3rbnsdsk4sevennine',\n 'stlttkxrsninetwolftchdtcrpfivelmsmgcdpprqx1qh',\n 'sptb46rtrzhcmbf3seven7',\n 'six6tntbjjtsdnczlnbeightlsfplsqq6',\n '33bldlptj2twosevenxk',\n 'five8snvmzqcksix7',\n 'vx49six',\n 'three7sixfourfxfcljfdhfl6fgktbsxxrrp',\n '4csxnkvmdnfive2rkkppdqln',\n 'dpxhgssggqoneqsvp9eightjvgjrjbd9eight',\n 'five6xrrzpdp8five44hqxqbnhxslrjfh',\n 'fkpcdb2sltktfghhmxdtxxffssxztjngkthree4',\n 'ndhcxeightthree3',\n 'qrrslbfxklbxnine99lcdtpbf',\n 'mvmcg5three',\n 'g9one',\n '2ninegdsix3kb9ninerssqbpxgs',\n 'blfclcvsh8seventwo8fourznjjssvtlg',\n 'ppjdvrxb6eight37cnqmgl9dghbrgrnine',\n 'nine6zzcvprthreefive',\n '8fourshkcchfb4sixlv',\n '9tpqqs3qxvqhqmb2',\n 'fljrhvnr722threetpghbftdt',\n '2five2bhhq',\n '18jhhzczcncjnjjx',\n 'jgvzzrklz8svzfcgzgggseven',\n '8rdjdvmvcheightrvkpcmjnshhltgghf41',\n '9three4cffsxc5vhcvdcqtv',\n '86tghvbgthreebkrgf6one',\n '331s2twonep',\n 'rtvz4bsdzqeightwodth',\n '3vggdskpcdjfivezpjgrfsqone4z85',\n 'xsftxsrk6threeconesevenncvs8nine',\n '3two2xjrqhrzjv',\n 'smdmb1gnlbvkq5nrmqmc',\n 'qmmpthreenine7sixczhlfttvphzkbqnm',\n '2rmsrzrbgfjrones',\n '81bmfddsmngkqpq5zsnrcnhqt',\n 'two1lzf4two',\n '4sixonetwobzvll',\n 'eightpggvssixfivelpm4three1hz',\n '77nine3ninefive7',\n 'oneninerhplrfsxlltwonineszhdqskt9',\n 'lxvtzvjzrreight931',\n '38z',\n 'zfxtdnbqtwoseven1grtpbonenk',\n 'fivesixkbzcbvcn76pdclljqsix18',\n 'mrxtfour5vkkmshbmpx2fourtwocpdzkmspqxqrvf',\n '8sevenfiveqvbsnine',\n 'onetcdfdtnsthree21four',\n '3zqcbvdftwotttfdvtmtxvhrsixtwo',\n 'lqmxvcplqs8bhsixb97',\n 'bmvxz27sixtwocvhtmqlls73',\n 'five1lvzzbv',\n '5oneqdcztvjsqmjf6',\n '61hjj4onetqlgkllr',\n 'sixthree9five',\n '8sevenjqgvlfoureightqnghxptsmc6xmrrnzd',\n 'ftjbhzkmvtwooneninenine9sevenqgb',\n 'onesixtworksmtc3',\n '3oner65',\n '3trmpzmc622',\n 'seven14',\n 'xfgbmsixeight6twocsevenzx6',\n '3xfdpbpnzzkdrbmrdjrtsrvx37',\n 'nflclprfgnt7',\n 'fiventkj8three4twolkrztseven',\n '19tbgcfourseven',\n '9onefour54seven',\n 'hkmfqcnpncfzgrplqq9xqklcb',\n 'ninemxhkpspbqn69zmlsbtsevensixfive4',\n 'zvfmhfjflscnqskzgnz74jlxrzm3',\n 'fiveeightvdqtlcfzzrpfd7eightwosn',\n '2nineone7fourninethreeeightsix',\n 'ppzf4five9threeseven',\n 'six1kzczzlssp84three',\n '885dlzlnnfth1xthreetfm',\n 'vqmntfbqgt6four57six5',\n 'mqgmbp3',\n 'threesix3one33seven',\n '46sixptwoone1vnnqlmrr',\n 'vvmcjdbjbthreeljznqhh5ztwodj8eight',\n 'rxhxx6ninesixeightrxffqrgdqx',\n 'ninefive2twoccpxbfcfkzpzhsf243',\n 'fourmvxpxsglhthreeone4jlgsfvxhmmjt1eight',\n '9crfpmnine19four6vkbsdfqn',\n '6ninekxjcfxfthreejpfmtjjbeightone',\n 'xknxrr6threeglmjzxpvxmfivethreezn',\n '7five737',\n '1qstxdtctlk94gtnqvfxmbjtnlkconetlkdmqgrxz',\n '6mgqtjq',\n '4pt',\n 'eightjkdl54one5eighttwofour',\n 'ttjblsrrl2three',\n 'mtwone8onethreecprdhtdgxvdqcptplmsixtwo',\n 'tqlkbkjrclseven9lprrcpnxv5zs',\n 'seven94mgljdpp8fourfour',\n 'htxchhjv6fivethree',\n 'gprqsxbnlpls2two',\n '7cjtrglplbm7pdbvjtnineonerqnkt8',\n '8onezjrxcsfjfoursz2seven',\n 'mcrpvnlsix8fourdblmxkhcsx',\n '413zsixhbsxqsplhz',\n 'fxqthree99',\n 'onenine46twotwoeight5three',\n '2559nhlsgmknq',\n 'sevenonexzxgxkhvln1v',\n '68',\n '7dcbpcxrm87crhzlmfgk58',\n '36one81foursevenfourpcnjgf',\n 'eightxlbgssonerjfone7ztfftmn2one',\n 'eightzkvcbzmceight5four',\n 'four79ninefive9sixh5',\n '2lmggjph5eight',\n 'ninetwojhzxf5kpfp',\n '7xvnbfbzpspbfxlpsfrzteightqtvdxnlkp2seven8',\n 'lgblvsjdrnjqfgxlfqh37852six',\n 'jtrnmqseven6bqbsdvtzd8ppzmnfmdhkrd',\n 'seven5seven676fivelctxb',\n 'mctbkczczspvhjfhfivesix3gtnqgkjzc3',\n 'psnhmjsix9',\n 'four4nlrhxflrrtxsixeightwosk',\n 'npkxv1grrrrbcsbq67538',\n '35thrcjrkrdptwo',\n 'klsnbcjfpdsrfnsclvnfczjfsixqpdhmmfmcqfive4bmtpctone',\n 'zxkncsrktnrv74eighttwonine',\n 'jdmfscrdlbj2brseighteight',\n '8ktjrzprt8khpvszbtn',\n '547jrxkhmheightfour',\n 'fivetwobpjrjczflhljvdlhl9fivernglhclznzfq',\n 'threenzlvrgjonenjbqnlfxhmfourone4mdnld',\n '6jbzzxsix9ninefivebdjmgnzcqqckkl',\n 'gone6sevencdmrdbrgh',\n 'cssoneighthmmxvqvbfflkjsixone361',\n '5onekpsevendcrzcgcs7hfvffksqr11',\n 'mfxjbzn9',\n '6nine4',\n 'cbljjfthree42sixkss5b',\n '36pvqf2cmvvzzdfour8',\n 'ntwone84three',\n 'twothree745seven4rsdlbtkoneightrbj',\n 'sixfivexfzfjhnzpfv8vz',\n 'four8five',\n 'bpqrcnj3',\n '45przmdflrrd',\n 'zcbpzhzq2nvjsk',\n 'xbrdcttltxnhdfgh33fivepthree',\n 'seven5six',\n '3three21tlfxhmlkqx9',\n 'sixkdxjtskknd1nrgbqxjsixbznjqhpfz2',\n 'eighthsfnljrpvqnzpkninebbbjfcshfq5one',\n 'nzqbqklqlsixseven56twoonethreeone',\n 'nfsixeight5jflseveneight3',\n 'sevensevenp63twoonevxlsgmcfvk',\n 'fourgncfdfoursix5mnlhvvml',\n 'sixseven66hrqjbkvfrjkmbg',\n '339lnhgjzxbdmfh',\n 'pvdnppdt3bxxqvdc',\n 'sixmqrcvtzdtsb4',\n 'two9xtsv5',\n 'fourdvt1',\n 'two2cbpqfgszpgbkrrbbnjzh1sixfourtqkns',\n 'sevennine6451oneninefourtwonenn',\n 'vbxrslkfour7four4qsmlhqvm3',\n 'foureightc3kjvmgtc6eightseven',\n 'oneone8bcpmdfcszz4kmrfrd',\n 'sixcqpbffcsctccd281sevensixeight',\n '6kxbhq5mnvt9cpbcpzslg77',\n 'cpjfplxvpzqfng4four516three',\n '3eightlnqzzsfhmndftc72',\n 'six2xsdhxgdlfnonenine46sevenseven',\n 'qdpdrkrt754',\n '5twosevenninerg6ninefcvgdtk',\n 'six31twox8sevenfourone',\n '8eighthplftwo',\n '41ninejdcvrlplk',\n '9hlnjcjjgdrhvmpvbmdzcmmzjtj2six',\n '3vpvdeighttwo',\n '4sznqlshqmninefourseven',\n 'eightthreeseven7',\n 'sevenfourzsfjplg1sevenfour',\n '34zbrvfjqckr8cknzsmpqc1seven7seven',\n '21shklthree59two',\n '7fivefive1gdtf8',\n '8gzfnxsp6hlpr',\n 'nineznbgntvcqjtft24threerkp1jlrdjhlg',\n '3414zzrxbgdvmp',\n 'fbjzjffour3lxzmck9',\n 'lsccprmgh1',\n '33two6ppjhfkcxpthreejm',\n 'sixsevenseven33',\n '3rphhpfdbh1cbmonetwo7five',\n '8hqmcqxcj6two1eighthbkcvvvt',\n '63fourrtfztfvonesevenseven1',\n 'd9ggdsxgnxvdlqhclgstn7',\n '5fourskvdvntzgmrmsgxqzd',\n '11onenine4eightsix',\n 'three4sixkrgfour9fourtwol',\n '8seven2pthreetjxzhrzvxrrfpdfnxsdbshrtnqgmzxsg',\n 'twonzbbtjkvtbcxrtszxmdtffkdndzqdfffxckznine5',\n 'two5rljthree64n8seven',\n 'fourninetwopnhzzrdmng4',\n '7vfivemlqgctmzrk',\n '85d7onefour1',\n '9nine6xddqgvth3six6',\n 'fjszdfnmg7one',\n 'm2',\n 'threenqglsjplgbpsixfour7fourninefive',\n '4bszvrqdvninesix6seveneightmfrgnxftkvchk',\n 'xnstcjndqzthvczfninendvksmmzzxsjt5',\n '413f9sevenninesix',\n '21mthreethree',\n 'fourmpsgpone6txh376eightwods',\n 'onetwo1ninefourfive4twohbb',\n '7hpxlcsh7',\n 'cqtwoneonelgjmxxjkv8',\n '6threetwotwo93nn',\n '1fmbdzfkkcg',\n '4mqfpxjhmmzfive9sixsevenhckjrrzxqcxnfppjchrh',\n '55xcxtfour',\n 'gbpcvzsklsix7eight',\n '83seventwoseven7ninetwo7',\n 'hdstztbpg8twofbtfeightninemzgrx',\n '78kzbqq3686bsnmvnchts5',\n '689113fbgjtjd',\n 'nine1threesevenninefour',\n '6sevenfxrhbxktxfive',\n '3lhpktqh89two4bpheight',\n '85three1dgvtjtg6cdtkhccnhhjfbsxdc',\n 'ninebvvhmlkrkllhjsl4five1',\n 'four7pvbvqjxsnfh',\n '882qtlk',\n '8onetk7eight8four4',\n 'cpkjmtpone68twojcmjbfsj7sixtwo',\n 'nineslzthree8fqtfckjdkl3',\n '6five9pkl',\n '1nine48dlxscmvsvpxtcsqhpfxn2',\n '22fourthree',\n '8dstsdqpffkfivegqmrvqr',\n '6rbdxrvxhsix44',\n '34three',\n 'dnkmhlzq4seven9',\n '5twohpxxfive8eight',\n '5eightz',\n 'jmmzbfk8ltkksfbbskcdrrgfnz21',\n 'eight1zqzr92two56',\n 'bvvmeight4twofour',\n '147gfslhl',\n 'dmfz59qsqmxngqxdlbhcxrqbonesix',\n 'nine8eight',\n '3ttzjhjdcqk',\n '62nine64ninebktrj15',\n 'mkdfdzxkbfctv47',\n 'vvhsvgjhhonenl7mrhdskxfrr',\n 'oneeightgqtp7fiverkvqjtsdeight1nine',\n 'eightonethree416gbqgnf',\n 'seven144',\n 'twoeightpprtlffourfive5jfjdvcvkd8',\n 'jppmcvlzrg96',\n '8eightonesevenzcvknjfvdkhrrzfmeight9',\n 'cm97three2',\n 'eightzptfnlgpfive6prrgtjone7vbnfml',\n 'threethree1ljbsfqcrsix',\n 'njnpsxlfivenine28two',\n '95dneightsevenxdtzbk86',\n 'eightm399lthreeoneqbjjjtwonef',\n '2kzxgfmcseven6qv7eight',\n 'bkrkfdfqbbcl84sevenfourpjf',\n '552',\n 'lmccgmxbzfour16zlbrrcgpln',\n 'nine7ngkjczfv7ktmvvgqb',\n 'qcqtseventwolg8',\n 'foursrbl91rsvtlbqdn6five',\n 'sixhvszbkncglchflsevenoneone4fivenmrcgkkvpk',\n '1threetwofive4fiveeight',\n 'seven8ghsqbmfzvpzbvvrtmxnhf',\n '4sixfive',\n '3six3sixfourseven5',\n 'hsbprzpjfhflrggjdpdsn23five',\n 'zzjqrc7',\n '737rmjmftkrdkvgs6five',\n 'sevenseven81',\n 'four69hdsevensix',\n 'jjgqr5pqtwo3one5cgkftvz',\n 'seven3threeseven1n6',\n '7ninenxktnbfiveeighthqmfdlkb',\n 'cgrztlh4gsdfjqzqvr2znxzkrjrkmd2eight1',\n '87eightfourdjbbjkpfpqrqmtfdhjrrfive',\n 'qqbglmxcsix8vftfivefvpfivevzvtz',\n 'fourpcksixjslx26six7',\n 'mfgleightc15frgtvxdnfour37',\n '67qbqpsgfcfgsccdt4',\n 'cfpjlxh16',\n '21sixslgcrgc3two',\n 'kmgfivextrdeightnine8sl',\n '6eight62fivekj2clfk3',\n 'fivetwo5three6',\n '9rzdrhvf4',\n '62fivetsceightfive6',\n '847gnmgjjksvdbkklpqsbfbzsffmm',\n 'cdtbhbfvgkkh7vhbcqkbjkkcrkhxfive',\n '7onethree3pnsfbhqsgpkgvncs26',\n '2jkfqkc',\n 'sevensixztcfmt88',\n 'nineeightxsfivekfv5',\n '5one5',\n '48jjvh4rprbgqzpgr',\n '23six',\n 'vztbppbsevenfive88gpmgjkq',\n '2hpnxbssr',\n '2jkgvrsevenntvzdkjzsmnjtcllttbxrnddmjceight',\n 'snn2cmvphzbbjlphrdkpqnqssixtwo',\n 'threeeightrbeightsevenkcfpn5qjmjbtc',\n 'l4four',\n '2two1',\n 'two6zmzvkx5nine',\n 'sccjntwo9',\n '6twothree9nineq',\n 'nine749sevensmvggvmfxghvmp5',\n '4six7sixeight9',\n '3seventwoxjmh76gllshjm6',\n 'threesevenxkftjzmpc6',\n 'rs4onefhnzkt',\n '6dprgnfhhfhnglddzksbk922',\n 'oneninejgcmvkkhxtsrmgqvninerpqmlmm89',\n 'cdvvddhxc1dtrzjl7nine9rxxkgb',\n '71chdqhbzps8sj',\n 'nkqpjmvjkzeightfourthree9sevenfqffcpbdsfks',\n 'kjtzdpxnmcvcsixbzcvdnzhnbkn7',\n '3xnvkmxqhgnzfour5',\n '4sevenxftdgseven94phsgkflqbpgjs',\n '98jhbgtdlrmjonesix',\n '86625three2one',\n 'onefoursixone8bphb6',\n 'eighthkzfnllhk3onethreezfttbtqljd8',\n 'peightcfdlhk9dvdtmbqgcone',\n 'ninefqtnjkqvrfbj8nine5',\n '5vtsntrvfivelpfln3kpkskrbrhbnhrncthree',\n 'nine6rpdsrkhzrqthreegkdlhxvzvfzmfive4krbdxjxtjr',\n 'eightseven3nine8threethree',\n 'sixdvqlt5zp3threemszxfdfiveone',\n 'hrtwovfive8ssfmbfsztwodthdlrxtjfive',\n 'qmlzrzfj2ccvztbn314',\n 'xvcgcljm6seven6',\n 'two7787fivesnine1',\n 'twodlhhsqseven8twosevenfour9',\n 'gktrrqrffg6sixkpbtldbzj35seven14',\n '8fivexnxsseven6hjdbbhxlt',\n 'cfzmmoneninefour4',\n '823eighteighthsonenzt',\n '4four6eightkdqljeightthree',\n '5jdpdgml22four',\n '6threefive7eightlzdlcxfvthgrlm7mjkmx',\n '6pldrbjfceightbnktrtqgtrxbt',\n 'b5seventhreexl',\n '194zgeight54',\n '7threethreez1sixthreetwonemr',\n 'zcnltvvhjr5vvdvkbnn2',\n 'frcdgbkjmqqzshjkfsixzxkgvmfrkfxqjpbgn5zgsn',\n 'sixonenine6',\n 'twotwoninenine6ttxh',\n 'nine4three32',\n 'four9three6bgbsqq',\n 'seventrseven1three7jxsmnrnlgdf',\n '2sfflb',\n 'twohfcr5one',\n 'fivetwohgrqtbhx619twonedv',\n '9lcsvtveightninerfxkxvzgpl',\n 'sixeight6sixfivethreeoneqj',\n 'dfourktxv2msshb8seven12',\n 'sgljk4',\n 'mjgk11eightrlbqpdl',\n 'jfdrflpxh489bkjtlj',\n 'pftppcr85three',\n 'onefivemfsfk3five',\n '5x7twoseven',\n 'cqkz8sevenfiveninefnbrht2nine',\n 'ninehhm2three986foureight',\n '63ljkvtrtwo9g',\n 'dqfour95fiveseven6',\n '8twozthreetwofive',\n 'six91fhzjs',\n '1slknxtrv',\n 'psxvkdcsdldxjninejfzblssv5z',\n 'bczst26r',\n 'btoneight79fninejvhvdccnhtwo',\n 'onejcnlqmnhjeight34z5',\n 'clbqcdmzc4mjlxgfournineddtlj6',\n '1pqqphfgqv5nine',\n 'five2tvzshsixfive',\n '8ninedhvzbsvcqgone',\n 'bqlgonesix7',\n '75bltzpqpntwosixtwo',\n 'onefxlvlqseven47twoslgffq',\n 'nsrnltmf4',\n 'mgshfseven33',\n '2p24',\n 'jklglqrone3qmjbdgpgzmznd',\n 'eight23fkgb2',\n '187two',\n 'vlvncjgmqtwo5771sixftz',\n 'lzr9',\n 'chrshzthree5641nine',\n 'rnnqlfgfmpscnmgjqvq84',\n 'gzltjddjpb937',\n 'ninethree5',\n 'fouronehvmmfrcgjcnmgcgkjnctnvvqftmdgzds89',\n '6xjone244',\n 'ninefour8four',\n '49threeq95five',\n 'gpeightwothree8lsjgjfourninehseven5',\n '2kfmzscsvssseveneightsevennine7bfct6',\n 'cbmtfpvsevenvsbbcpkzlqlgsixfghzrnn28',\n 'eightpslnsnnonemqxmmhch42six',\n '2one42bgllqb2',\n 'rjshlfvkkgqzsnttwo3vfourgkplcs',\n 'eight96',\n '16qng4fiveseventhreenine',\n 'bldtndftseven9qhhxgmgxd2',\n '219ninebklfrvppfmzrjnv9g',\n 'jvzdghjjv298zkssjc714',\n '1eighteight',\n 'onejkzeight7seven',\n '37five4',\n 'zxqrfpr7lnsqmcrtxkpvxkzjgdsmncvqhvrmnvqzkl',\n '1dxfivepqbvrp3',\n 'krpjpfxbrstwosixkr3dceightwoj',\n '5nineeightjbfzclpdjone2threebddbpxrcjf',\n 'rqlfljnktwo57',\n 'tsleightwocdzzmgpxsix4seven',\n 'xdvrspvzbx2',\n 'jlbvjskhsnttvzdlhsveightthree9',\n '5one7jlsnzbbbzxkvrtd',\n 'foureight6rpsrtrrzcnvtc8mdqzdxnrsqtcxkskd',\n 'gtdxgdj2jlhfltkbmq45zhqcqmzbfninenrvvqcj',\n 'seventwoeightonebkcbxqpdhn42',\n 'rrqchvstrmfive3mzmvcrprssbvthrg1twotwo',\n '414nmdkhgfive7seven1llbpxdv',\n 'eightfivecflctsdvs262nineseven',\n 'sixfive71sthtxdgbbtntqpqnltmf83',\n 'kboneighttwordldqjvvkh4ctntmtvsv',\n 'jxmdndmtxhqndfptmnine8three3',\n 'cvmqjmbsm2c3onecvftwofourtwo',\n 'one7fkckcjknb2l',\n 'onefnbtgpqkghcxlgthreevvlxp94jdrgfvpmf',\n 'eightjxktztgfgpnine1threexgfklt',\n 'six1llzdnkvn4twotwo',\n '7mfnnptwosix2five',\n 'qgzftjcdgs45fivezzvrtjonep',\n 'boneightnxggjksdcg8',\n '2three7mfqvtzlk',\n 'fxg8gsffbl84pjvk',\n 'sixpj5',\n '4qbvpfqrnplq2snsfive1hnmkxgszqdseven',\n '9sixcjnqgxtzh4',\n '2sxmbjxfive2',\n '9kqcndbqfvs',\n 'kvrhxlsbqh7fivethreemmflkfq',\n 'khonesix28',\n 'nineeightvhncnbtbp68fone',\n '8eightnine',\n 'four71eight',\n 'nnvonethreepktq8threed',\n 'x373one',\n 'flv3nlzxszdbhbdcntp',\n 'vm76xr',\n 'pksrznbsfg4',\n '7twobsxjrz1eighttscqzfl',\n '6sixoneightnc',\n 'bnvvfour7sixzgxxgctdvfive',\n 'qrxoneight7vsdlprzmvneight',\n '5blqzhrdr8ptwoseven7twonefh',\n 'j8',\n 'three3938ninethree8',\n 'ctvc2',\n 'sixqdmvtwosixpfour3',\n '86xqkfzzn',\n 'dcjxcj4sevenkglhzcthreesvbkcgxkg',\n 'sixcqncsgn6cqfvcl28three',\n '4five6fivetwothreehtpfqvfnvteight',\n 'rdcmt3',\n '4eightzxxfvrp4sixz',\n 'sixsevenhcf13qfdnnqml',\n 'sevenqzflnkpppvdln5mcztone',\n 'twosixqdqdscpzfvzxx4',\n 'seven3six',\n '48four8',\n 'kmsflcqndhnl3onedqfkd7seven',\n 'lrtdllmlz3smpvmhsggfjrvheight42fl',\n 'vpftvkgzmjl57qgvlsd5',\n 'bkbrkjtpmtwo2gpmkjxnxlfive',\n 'eight7three8twonbl',\n 'nflq6nine4qrpzclr7',\n 'onefour1hjndfpkndthreetwo2',\n 'gphthpbfeightmsvtdp2six',\n '98two6threemqnscvg3seven',\n 'kbrqglhqseven3onetwo13',\n 'rvzddkzftqlnine8hngltmmz',\n 'fkeightseven52hptcfivengnrj2',\n '7sevenfivefourrdbdxh7',\n 'pnjpbvlrd2jfivexflcbseven',\n 'four887seven9lc2',\n '4sixlsxxlqqvpxxhrlhqc',\n 'cq5four8',\n '7threedzdp527eighthxjtzfxv',\n 'bdlhgonexrjsfvxghxxchcdd3dpltbbklpvbszm4',\n '6twonineeightkvhlhlfm',\n 'nine6krqqzfive',\n 'eight8qzkhfhm',\n '3eightsevennine',\n 'eightx38fourf88',\n 'qkjxldk8418n',\n 'r15xhtkntq6nxcqvrmfpbvcponeone',\n 'ztgf92',\n 'five9vbqlbvkksixtwoone9',\n 'onevjbktjqn4onebxml1gckfssxst63',\n 'fhrhvvst9fivefourxmspzh',\n '3six191dbxtkm',\n 'mq5vczknqlqdd4eightvpv',\n 'ffourthree4',\n 'four4rvcrlbb96',\n '95ninelttmq9',\n '9fivetwothree71five7oneightrt',\n 'zvhmfqbzfjtrv19h',\n '57eightvmqfvrjg9',\n 'r2lszmztwo',\n '5919xj',\n 'jkmrvxgmzrflqtzkc44onenjftxgm3',\n 'pmjpbdxpgctkninelpgrdjkrrzdpf2',\n 'dxveightwo6psqffzhc5jc',\n 'seven5ftzpsvcfzhhtgpdtghpxfmhfjvppkone',\n '822oneoneoneightct',\n 'mhzjmppgh7cqpxkmdtlthree1vgkqxcfvpgtwo',\n '78bbrbspqpjkjcprh',\n 'eight7hdgm',\n 'rpvrvrqtgc87',\n '6oneqcntnrblvqmm2',\n 'nbsoneight7',\n 'hxfzqzqvsnfive4five44ctbldgcpg',\n 'fxvnkksjcz77threemgcgzfrbqzdqtfgnine',\n 'qcl45q17',\n '3gdqztrfjcmz',\n 'threebkcvccgsrrp77onetwoccrmtwo',\n '1vmvqqjg58onetwoeight',\n 'jknhpr85stqcsfbrbm',\n 'three941rlqcpcjmffivecqgzbzjl',\n '44dnnvrlgqsixone',\n '4kkxgggmcbn4bqjrcvdbd4vcgxsvsrk',\n '8fivemgvrcxlhsix4',\n 'twobvccclhj6vtzfhtwofiveninehqsnvcxgfourtwonexrv',\n '3sixvzzdkblrhlgbplqkqeightsnlncvqcxqsix',\n 'six9jgsrxknfmfv5four4seven',\n 'fourthree1',\n '1xndxzh',\n '2znktjrsevenrgvc2tcmbbxzj',\n '416nineonebgnninetwoqlpglcvcxc',\n 'gone9bjv8',\n '2gltwof',\n 'hhonencqn2dnzhjpfrs3n59',\n 'fourcjmsf3',\n 'mtwothree82four',\n 'onefivetwonxv5',\n 'xgvfxzfshr1',\n 'nine15',\n '21rfhzxlngk2fourfm79',\n '3cdzbnrvqbbrklrsvxktmghrn6eight',\n 'two25gv8sevenkmkprbgzzlkddnine',\n 'fiveeightrscknxv1jlhzgjjrxktcvjgqkqqzjqdjgsixvqlhjghsm',\n '33nine39pfgsdtptzbqhfjppp4',\n '7nftkbhcgtthreethree44',\n 'fivefournrqbl3',\n '43fzvdptqnq',\n '499four1bdpvvvfnine',\n '9tt',\n '381ldxxmdsgtwonine',\n 'pmctnnbdzmxmqrdgcj8sxbpshfzxdnznvtldqj5',\n 'jnhtfjqfive7hvsxqsixnine1',\n 'cnhkqbhtwoonezhdlbxdtdk6',\n 'four5oneonefivehkzcxq9seven4',\n 'onefivexpfour2',\n '42six2threesixfour5',\n '8fmqpdhpjv1',\n '1bnlfgqnseven',\n 'tkzcs9ndthree2366',\n 'qttwone5711vjvonesix',\n 'nrp62ggmtwo87twofbkpbgtlr',\n '11cgcbfprckdrtzxqlckxhvbjqbslvvnchpkdqfg',\n '1nhkzggnnxhnrbkzjq3nine6one',\n 'zvhgzgpvll1dkvbdf5fourfgqqdnp',\n 'one1rkpsfddfh6four',\n 'hmfxqb9twol4dpfmz4threelkg',\n 'xlcmzqgrq7threetwo97',\n 'ntwonedz3dbgngsnshb6bdbtspkzzttvhphqdbz7mpkbpchsf',\n 'one586fivethree4ghcgjrqltgeight',\n '1eightone',\n 'seven96two2hjxp',\n '9two5bzzfzfive661',\n 'nine12ninefourone8oneightsv',\n 'pdlcdbgsc5',\n 'xnpbsr3fourrgjhdzgbxsfbvhhjlthree69seven',\n 'qtnxqffour6sixfour9cmnxsrjttonej',\n 'psshpgrbhnjhgr7',\n '428',\n '7twotwolghmqhkxthreefoursevenzmkzhvs',\n '13hcnzjhsix2',\n '7four5nxdq3fivesevenfivesix',\n 'hzfqzc2fourone34',\n '7tdr46hrdgjlzkptkqhmsffh',\n 'gqc76',\n '33376',\n '32three45kvlmcvmmh63slm',\n '842xbtj',\n 'lvjzkvqthree2six',\n '64ninentjfiveeightppljppn1d',\n 'four8fzvmnfourtwopggbxv',\n 'fivexftmjtmxdp7',\n 'sevensjmhskjnmpfnfj55xhgchqcgbsixdrtg',\n 'sixccttdcpvklgspscrbronefour3',\n 'foureightnine4jnm',\n '86twofour',\n 'fqrpnphnqr98nine7',\n 'fivetwo3',\n '8dbqjkxjfsgpsixsixeightthreepfmtsnk',\n '9sixonembbhvbmsfseven1',\n 'sixdsvdctxpchvgkggtwocvzvseven8onesix',\n '5lmbjk7nine7szmvnkmz2',\n 'fiveeightfive7xlcszxsevencrxdfzsmccb',\n 'lhmvzszvbxxq592',\n 'eight814srjh99',\n 'qdqzvx2sixjp',\n '4fbtjrxs',\n '9ftbf668sixsjninethggtdncsv',\n '4ninezzmbfbjn',\n '75nineonefivesix',\n 'ninethreevntrpltfttnlzgn7',\n 'fivefiveseven4seveneight9three',\n '89bspmdgzcm',\n '6jnnmhkfourfive63eightggchjtwonet',\n '6twocsjssxfnfxbqrqrhdfrlzfldf',\n 'xhlk7xdmg',\n '64ninesixhhmjhglhp',\n '6fourkm9mnnrbjpjtwozdgtrsseightwox',\n 'rjrldgmzthree5kqnjmxpmmr1threefiveeightbjjvk',\n '2bzsevenfour',\n 'pkkrrzlnm31gkfvfjpvhfivefour',\n 'jtnkdkldq285fiveg',\n 'tvzmqone8mqsfeight5',\n '9nineeight1vnsm6tx6three',\n '24gnthreebzz9six',\n 'dvcmqppn7',\n 'one5three3ninedqxqljq',\n 'five8gdtthree4jjnhbdkp51gtkmbnjzk',\n 'cvsgrlfdflhjp8dvfourninefive',\n '113three26',\n '6dhfrhjthreebslzctwo85vgjbr',\n '4seveneightzvbrjtvbvzcmzxshl9',\n 'five24kfrninepp7',\n 'onejlx6nsgqcckqfgkstnczpgmzcfx2rbqdvcjpr5',\n '2fiveoneonetzkqxs95ztchd',\n '1nineblthree',\n 'xndbmvlqlkq6pkzvzlplbthreethreethree',\n 'sppdbmqndkqj7',\n 'hcdkt8fdlqmkprg11seven',\n 'sevenseven84five6sjbsvkds',\n '9two3eightone5',\n 'dreightwolpqzcqsmqfiveeighttwoninesg9',\n 'vzplxbbt9rfftfmmvnine49j',\n '8ninetfvjmjlxtseven3chppcpt2gzfdpdm',\n 'nfbckqn7',\n 'four5threenine',\n '9threeccgvdstztf4',\n 'one772nineeight',\n 'fourfive2v387',\n 'five9dpbgxxjkg64',\n 'nvngsn9six32fivenine',\n 'pdctqmdvdpqbdqs49pgzfive',\n 'seven5trmnqnqgqprkdkxcsrtmzjccgrtbklnhnfive',\n '5kpjfc3rt',\n '47four',\n '61fourvz3',\n '3gtzzrsphbrkqgmfmgdhsixdskqqzhfoursx7',\n 'four4rfnhpqblsixcqhlfkdkn6',\n 'nine1nzrqg9',\n 'two5three',\n 'f7trxrqhfpg3fourpprkpvone',\n 'eighteighteighteightsixone2fivefntjsvkln',\n '992xtfbdstcnlkfxfour1q',\n '5bhhlkrhjptwoeight2d',\n '488',\n '2four8twosevensgtplsfournine6',\n '8jnsljdgdbbxzvvxrzhv8fourdvvcvmcsq',\n 'zqmthreekdvdd9eightcxkjckgd',\n 'eightninetwoeightfpznmztv722',\n 'bslvfrtgqb3seven',\n '3fourtxlrxjfskztwoeight5kd',\n 'kjgbpdxbrsv2twosix',\n 'eightfivesgbktt47sixeight3',\n '4oneninelpfjmmzcsq',\n '3eightsixseven7sevenxscsrrfc',\n '18dgvtgskkfoursix',\n 'one87',\n '386tworhzbhbtonesix3',\n '516xdqcsdpxpfhzbblg',\n 'nldnine15six59nine',\n 'seventhreegpqqdddh9five',\n 'dkktl5gnrmjgbfsfive7568scfgqvrqs',\n 'glfourseven2sevenqvpc',\n 'nine1cfttktvqjxzbb',\n 'twoqvfzx56one',\n 'eight1lzfkrsclhccxtwo6',\n '9one5',\n '1onetwosevensevenfiveztgmhfldthreeone',\n '4ngnpzvpvdz',\n '3452',\n '6lklgpxstsixtwo',\n 'tcpbcspsix4vdlvsqddfvxeight79',\n 'xhgxp7sbnbfsfxntspbncg48fivetwonine',\n '7eightgmleight9xbzlpgjqsix7jcsvplq',\n 'lmdbvbkpfive3qtkf35',\n '3xfszvbl',\n '2sevensevendrzzljmqcr',\n '1four2',\n 'mnhqcgffllnlhthreegneightcxbhz23',\n 'znrprxdtp9sevenoneightnk',\n '18ninethreetwo',\n 'fournineftpqcmsix213',\n 'eightlmgrjxdfl5six',\n '52eight495',\n '6twogmvhfrrzhkthreegplbmssixseven4',\n 'hvpnvkrmrqfivetwo6dlgtscdmfsq',\n 'ninemseven9seven',\n 'zfqfdz5sixbmlsvzckgvskseven8five',\n 'sixsevenjcmtgqtb1nmnmqggmc95',\n 'sixeight8fourseven',\n '6tppqxqsmljd2rjfffxbeight86',\n '69two1seven',\n '813three1eight',\n 'rttddjcrmc52eightcsevenvhxc',\n 'kvpgfbnrkzseven2fourgrghxjplqbgnbvpznbdhrxgdqzzkdgfdbqggbmfg',\n 'seven8eightfive',\n '3tgcnpp',\n '316ksn9twohrtgbcmcrdn',\n '1ccsfttwosix',\n 'eight1sixnine3cfvzlfh',\n '5twoxhmlzmvszm',\n '4ninefourhvqznsjng2',\n 'jzvdcjsdpmrdzbkvdfourfivefour9',\n 'lnlhncjthreeseven5',\n 'six8seven4seven4qtncq',\n '2threesixjzdzmlfsdmqc',\n 'threenlrd33',\n 'three3sqfmq7nine',\n 'jrgvgjlnlthree78kf',\n 'tgngldxnkzf2one8',\n 'mpmeight92seveneightsix',\n 'tninethqhpzlkzhgmkqsix574fsd',\n 'seven8five1seventhree5',\n 'jf533reightrxjdrqhsix',\n 'mxvnxmxmnvkfqcnzzpc1twoone3',\n 'four7twodlfxxrsix',\n 'gfflmcdlsix5fgthree',\n 'threecnqdtbvjxmgndzkkninedclqh78zk',\n 'fivesg8dhhthspm',\n 'sixmbsnvvzncxz4one',\n '8hkrb3oneightj',\n 'sixsix3gqtvqqnmtph8threexchpjtcxfj',\n '8399',\n '2hzngcnshdktwovcxchdqrh',\n 'five6ddcnpsdlllrmmnvmmsix',\n 'ninerxfpfsixone9',\n 'xrjphdrq3kdvlg5twoks',\n 'threegnklthree1rbthree3',\n 'fivenine1tftcphztmfthj23',\n '3h75eightfdnz',\n 'twoone4eight',\n '4783five',\n 'threeqsbhznhfd2jgjjggt8hmbdhstsix',\n 'seven2sixthreeglzvrcvlhfivenine',\n '9jht8xdhfrsjbhthree11',\n 'seven9twosix',\n '2rzzmzgbqggbqhlsdt2seven',\n '733eightfpljbfm4clqccf1fjgkgxdktz',\n 'ltvlb331jmp1sk',\n '5fourseven2kdd2vfour',\n '4sevenone18',\n 'lsscqvt7seventhreevcqvpjndvltwobkv5qgfhczmhxg',\n '659five',\n 'nzl231pzllsvcmpncslfmseight',\n 'nine8zsnkrnine',\n 'rlgzb95eightxmj',\n '5sixsixkstxnclx6',\n 'jkkxmn34nttqsrhdtkjl',\n '2mjkqdlfrjjnvbv',\n 'fourhqbhbxfvzkrplxqkckl55onethree5',\n 'bffncpr8tclcgtwo2',\n 'nbqtkrhnmrh9hvctrhjzvbqrs',\n 'vfxbqqxlpx1sixnine9',\n 'd2sixsixsevenseven',\n 'jtwonethreesixseven8fiveseven',\n '4mlvbpnxzmsrnzvsjlpbcxgsmvcqdmqqlrhj15',\n 'bskfxdmsixeightnbtdfpbtmgpddrkkczr9one',\n 'ng8eightfour5',\n '53ccpsnxndthreegcpjgkzbmvcrbfive',\n '4one2threedmb',\n '9kfscngdfrnine',\n '9four32skfdjfour22ltv',\n 'pgfourrntwo985',\n 'seven5cpvbsonefour',\n 'seven7onefive',\n '9pqspsbsneight6nv',\n 'eightdbsevenqdsh3zjgmlxlgpnjxjt',\n 'vcj7fzhmjnqjdds',\n 'rczjzrsrzfiverbzmpcjthree7',\n 'cvdqclthr9',\n 'twosixonefour1sevenmsb',\n 'tdrgmvlm343938qpvjd',\n '8nine33fivethree',\n '5hpbhcpkkgfour7sevennine',\n '1m',\n 'rstwonevngtsslzn2',\n 'sevenfiveoneninehfmdseven9bvfqbvvhbm',\n 'gonetwothreenlqxbpfpxs1pfrkgzjjk',\n '58three768qsrffkxp',\n 'eight4sixsevenfrjcfour866',\n '4seven3hpjfllmhhncq',\n 'fivesnbldvhsixdl4',\n '4twofive',\n 'rlrj15',\n '2sixpqspdfssix',\n 'five32lxgrrrbnntpqhhxcgcztqgtbsz',\n 'ncvnfivecnkdpjjpbh93ninejvqslxxpm7',\n 'kdfcfqrn9eightonebsix2prnbrmj',\n 'gsixninels229dsflfvnine',\n 'zjxvkq7cvlcggkskcccmcsconerszqnmfghnine',\n '4four1tlfnjgqzz',\n '78twonine2kzhqdgx169',\n 'bfive2fivegktdzmtlbf3jlfzdktsg',\n '35eightfive9six9qsnq',\n '3twobhf2fjvgr2',\n '2ggns35nsbcldmone',\n 'jpdqktwo4tdvh9sxslths7',\n 'ggkplvtgctpgzmxbmdt3btqmgsnmvqqxv',\n '5kntpbjz',\n 'nfqjskkntdlbsjzsjxvmjbfivemcbhkzrjdhvfqzqkbbbqv7p',\n 'five2nqcj7sixsixthreeh',\n 'fg3one',\n '4nineb1threesvbks2lp',\n 'xxlq9',\n 'rptjtqdgfghmxhv4239gptndhvjqd',\n '4lbbtzvcxgxnfbbv7',\n 'eightzzmcxmthreekkmq919',\n '7jpdvzs1threesixhctfdzpdlmxqgz',\n '97bzcqhdnpvmonesix4pfpsevenbjvctzqchd',\n 'tlbxlftmc73nineeightzktqfzqhxx9nine',\n '5six4',\n '4bxgmpcd1seven4grrdnine3two',\n '1lsfpdnmlzlkczfdqpbkdb5pjns6lqqnpvkrjsg',\n 'hzxppjnkhbtqnrqpleightggcgbrhm3',\n '7bzz199threecmnrn',\n 'five214qcppmkvzdq5six',\n 'fiveeightgvqnvcmgsthreefive2',\n 'eightfour6kds2',\n 'eight1seven5',\n 'xone3fivetwofivesix3qqqsvhmt',\n 'twogrfrrmkc4zkrpsp9two',\n 'twofourfour8',\n 'sevenlfive7psixonefour',\n 'kfxfgt98jvdrx',\n '45gzmzzxh',\n '2gvxgmtone7twoxqninenrqr7',\n 'twotwo1onexgtmdnvss',\n '4517seven',\n '7onensevenj6555',\n 'fivesix9nine',\n '329lbrn',\n 'xkzrhlcrfmrmfqlseven3five',\n '2877rfplvjbvjj15',\n 'mzzfdftbninesxsdxltwo79bsdvnine',\n '79tfnmsevennnmsdrgzlsg',\n 'kgmhkkq64threesixeight44mskzftd',\n 'vnjz8onemdnjfzmqcgxqonemspchrxlggoneightptg',\n '83hqrd1sixsevennine',\n 'fcbdjhdndjchqlvdv2sixoneseven4fhfhxrrrxeightwotpt',\n 'ksfbthjpczlghsgkfive6',\n '663krqxqlznine8',\n 'sevennineeight1nsk8mvblkzzz',\n '1seven74',\n 'tvqlxnzn7',\n 'mbrphrdzsvnlpqlfdfpqrmf2',\n 'two9pbxbt1fivecpp',\n 'six2onelffxlvkh8sixfive3six',\n 'fourdkqzfive9',\n 'reightwobp9bzpx71six',\n '2mconefour',\n '6fjpccfour',\n 'seventhree8one293',\n 'six3khrpvrhzgthree8two',\n '7357sixhsbgkkkfljlrmbx',\n '75twoeightfourbcgeight',\n 'ninenineone2two2',\n 'gfqhnhjgt762zfgpzdzdhh1',\n 'nghtwone5sjbhtzgseventwomdm',\n 'gphcvbvxfxdbnqcttt37',\n 'qone3nineqfqdcfc',\n '3eightnineonesixslhkjqgmreight',\n 'two5dfive56',\n 'seven9rk',\n '9six6seven',\n '1crhxcgsfqcfvgvrr6nine7tworzbvh',\n 'skbfn94hskkfzsvqj4eight',\n 'mbtkcgqj4mbfour8',\n 'blghkbbgx3',\n '6oneeightnine6',\n '1threesix',\n '1jzlbxmxbseven39',\n '65nineszqvcgghgg',\n 'threepcjrl1',\n 'n346seven4',\n 'oneeight3',\n '7vtcgkpgqqzcxdxrjmpbjone1pvxcjjtpdtcprkq5mqxkjpbqkd',\n '32skznxsevenone3',\n 'sevenninesrrcmxdgnq2vmlvdhj',\n '2nine3vcfivemb5six2',\n '5hx78fournine669',\n 'qszds3',\n 'six4seven2one87four',\n 'plxfoursc41five',\n 'sixfour9fivernqcknsbgpfrzmgz3',\n 'onesevenf78threedzvlm1',\n 'xlkdlhlk23four',\n '8ninejseven5']"
          },
          "metadata": {}
        }
      ],
      "execution_count": 95,
      "metadata": {
        "collapsed": true,
        "jupyter": {
          "source_hidden": false,
          "outputs_hidden": false
        },
        "nteract": {
          "transient": {
            "deleting": false
          }
        },
        "execution": {
          "iopub.status.busy": "2023-12-01T15:48:02.933Z",
          "iopub.execute_input": "2023-12-01T15:48:02.941Z",
          "iopub.status.idle": "2023-12-01T15:48:02.953Z",
          "shell.execute_reply": "2023-12-01T15:48:02.957Z"
        }
      }
    },
    {
      "cell_type": "code",
      "source": [
        "  lookup = {\n",
        "    r'one': '1',\n",
        "    r'two': '2',\n",
        "    r'three':'3',\n",
        "    r'four': '4',\n",
        "    r'five': '5',\n",
        "    r'six': '6',\n",
        "    r'seven': '7',\n",
        "    r'eight': '8',\n",
        "    r'nine': '9'\n",
        "  }"
      ],
      "outputs": [],
      "execution_count": 96,
      "metadata": {
        "collapsed": true,
        "jupyter": {
          "source_hidden": false,
          "outputs_hidden": false
        },
        "nteract": {
          "transient": {
            "deleting": false
          }
        },
        "execution": {
          "iopub.status.busy": "2023-12-01T15:48:03.578Z",
          "iopub.execute_input": "2023-12-01T15:48:03.581Z",
          "iopub.status.idle": "2023-12-01T15:48:03.587Z",
          "shell.execute_reply": "2023-12-01T15:48:03.592Z"
        }
      }
    },
    {
      "cell_type": "code",
      "source": [
        "newin = []\n",
        "for i in inp:\n",
        "  intermed = \"\"\n",
        "  for j in range(len(i)):\n",
        "    if i[j] in '0123456789':\n",
        "      intermed = intermed+i[j]\n",
        "    else:\n",
        "      for l in lookup:\n",
        "        r = re.match(l, i[j:])\n",
        "        if r is not None:\n",
        "          intermed = intermed+lookup[l]\n",
        "  newin.append(intermed)   "
      ],
      "outputs": [],
      "execution_count": 97,
      "metadata": {
        "collapsed": true,
        "jupyter": {
          "source_hidden": false,
          "outputs_hidden": false
        },
        "nteract": {
          "transient": {
            "deleting": false
          }
        },
        "execution": {
          "iopub.status.busy": "2023-12-01T15:48:04.075Z",
          "iopub.execute_input": "2023-12-01T15:48:04.078Z",
          "iopub.status.idle": "2023-12-01T15:48:04.114Z",
          "shell.execute_reply": "2023-12-01T15:48:04.117Z"
        }
      }
    },
    {
      "cell_type": "code",
      "source": [
        "newin"
      ],
      "outputs": [
        {
          "output_type": "execute_result",
          "execution_count": 98,
          "data": {
            "text/plain": "['977',\n '42969',\n '91342',\n '416747',\n '2',\n '471',\n '41',\n '87689',\n '17336',\n '8613439',\n '37724',\n '3',\n '935',\n '6931533',\n '746516',\n '82983',\n '421167',\n '39182',\n '81',\n '86349',\n '8636',\n '2357',\n '2884',\n '85',\n '43',\n '1836282',\n '982',\n '8896',\n '8988',\n '9',\n '49147582',\n '77448',\n '996145',\n '5',\n '615447',\n '824',\n '27731',\n '55157',\n '722487',\n '2741',\n '475',\n '223792',\n '13222',\n '863',\n '668221',\n '5332',\n '76',\n '246',\n '1982',\n '313',\n '536',\n '4662839',\n '388987',\n '772563',\n '64',\n '327249',\n '66634',\n '1',\n '32852',\n '7',\n '242558',\n '113',\n '18',\n '5298',\n '152',\n '26219',\n '557',\n '131',\n '829',\n '333479',\n '9251',\n '46377',\n '6686',\n '33227',\n '5867',\n '496',\n '37646',\n '452',\n '19898',\n '568544',\n '234',\n '833',\n '999',\n '53',\n '91',\n '296399',\n '87284',\n '683799',\n '9635',\n '8446',\n '932',\n '7223',\n '252',\n '18',\n '87',\n '8841',\n '9345',\n '86361',\n '331221',\n '482',\n '351485',\n '631789',\n '322',\n '15',\n '3976',\n '21',\n '815',\n '2142',\n '4612',\n '865431',\n '7793957',\n '19299',\n '8931',\n '38',\n '2711',\n '5676618',\n '45242',\n '8759',\n '13214',\n '3262',\n '8697',\n '276273',\n '51',\n '516',\n '6141',\n '6395',\n '87486',\n '219997',\n '1623',\n '3165',\n '3622',\n '714',\n '686276',\n '337',\n '7',\n '583427',\n '1947',\n '914547',\n '9',\n '9697654',\n '743',\n '58782',\n '291749386',\n '45937',\n '61843',\n '88513',\n '645765',\n '3',\n '3631337',\n '466211',\n '35288',\n '6968',\n '9522243',\n '431418',\n '991946',\n '69381',\n '6353',\n '75737',\n '1941',\n '6',\n '4',\n '85415824',\n '23',\n '2181362',\n '795',\n '794844',\n '653',\n '22',\n '77918',\n '81427',\n '684',\n '4136',\n '399',\n '194622853',\n '2559',\n '711',\n '68',\n '78758',\n '36181474',\n '811721',\n '8854',\n '47995965',\n '258',\n '925',\n '78278',\n '378526',\n '768',\n '7576765',\n '5633',\n '69',\n '44682',\n '167538',\n '352',\n '6541',\n '74829',\n '288',\n '88',\n '54784',\n '5295',\n '31414',\n '66995',\n '167',\n '1861361',\n '517711',\n '9',\n '694',\n '34265',\n '36248',\n '21843',\n '237457418',\n '658',\n '485',\n '3',\n '45',\n '2',\n '3353',\n '756',\n '33219',\n '6162',\n '8951',\n '67562131',\n '685783',\n '776321',\n '4465',\n '6766',\n '339',\n '3',\n '64',\n '295',\n '41',\n '22164',\n '79645119421',\n '47443',\n '483687',\n '1184',\n '6281768',\n '65977',\n '445163',\n '3872',\n '62194677',\n '754',\n '527969',\n '63128741',\n '882',\n '419',\n '926',\n '382',\n '4947',\n '8377',\n '74174',\n '3481777',\n '213592',\n '75518',\n '86',\n '92431',\n '3414',\n '439',\n '1',\n '33263',\n '67733',\n '311275',\n '86218',\n '6341771',\n '97',\n '54',\n '1119486',\n '3464942',\n '8723',\n '295',\n '2536487',\n '4924',\n '75',\n '857141',\n '996366',\n '71',\n '2',\n '3647495',\n '496678',\n '95',\n '4139796',\n '2133',\n '41637682',\n '12194542',\n '77',\n '2118',\n '632293',\n '1',\n '45967',\n '554',\n '678',\n '837277927',\n '8289',\n '7836865',\n '689113',\n '913794',\n '675',\n '389248',\n '85316',\n '9451',\n '47',\n '882',\n '8178844',\n '1682762',\n '9383',\n '659',\n '19482',\n '2243',\n '85',\n '6644',\n '343',\n '479',\n '52588',\n '58',\n '821',\n '8192256',\n '8424',\n '147',\n '5916',\n '988',\n '3',\n '62964915',\n '47',\n '17',\n '1875819',\n '813416',\n '7144',\n '284558',\n '96',\n '881789',\n '9732',\n '85617',\n '3316',\n '59282',\n '958786',\n '83993121',\n '27678',\n '8474',\n '552',\n '416',\n '977',\n '728',\n '49165',\n '671145',\n '1325458',\n '78',\n '465',\n '3636475',\n '235',\n '7',\n '73765',\n '7781',\n '46976',\n '52315',\n '733716',\n '7958',\n '42281',\n '87845',\n '6855',\n '462667',\n '815437',\n '674',\n '16',\n '21632',\n '5898',\n '6862523',\n '52536',\n '94',\n '625856',\n '847',\n '75',\n '713326',\n '2',\n '7688',\n '9855',\n '515',\n '484',\n '236',\n '7588',\n '2',\n '278',\n '262',\n '38875',\n '44',\n '221',\n '2659',\n '29',\n '62399',\n '974975',\n '467689',\n '372766',\n '376',\n '41',\n '6922',\n '19989',\n '1799',\n '718',\n '84397',\n '67',\n '345',\n '47794',\n '9816',\n '86625321',\n '146186',\n '83138',\n '891',\n '9895',\n '5533',\n '96354',\n '8739833',\n '653351',\n '25825',\n '2314',\n '676',\n '27787591',\n '2782749',\n '6635714',\n '8576',\n '1944',\n '823881',\n '446883',\n '5224',\n '635787',\n '68',\n '573',\n '194854',\n '73316321',\n '52',\n '65',\n '6196',\n '22996',\n '94332',\n '4936',\n '77137',\n '2',\n '251',\n '5261921',\n '989',\n '6866531',\n '428712',\n '4',\n '118',\n '489',\n '853',\n '1535',\n '5727',\n '875929',\n '92398648',\n '6329',\n '495576',\n '82325',\n '691',\n '1',\n '95',\n '26',\n '187992',\n '18345',\n '4496',\n '159',\n '5265',\n '891',\n '167',\n '75262',\n '17472',\n '4',\n '733',\n '224',\n '13',\n '8232',\n '1872',\n '257716',\n '9',\n '356419',\n '84',\n '937',\n '935',\n '4189',\n '61244',\n '9484',\n '493955',\n '82384975',\n '2787976',\n '7628',\n '81426',\n '21422',\n '234',\n '896',\n '1645739',\n '792',\n '21999',\n '298714',\n '188',\n '1877',\n '3754',\n '7',\n '153',\n '26382',\n '598123',\n '257',\n '82647',\n '2',\n '839',\n '517',\n '4868',\n '2459',\n '728142',\n '53122',\n '4145771',\n '8526297',\n '657183',\n '1824',\n '9833',\n '231242',\n '172',\n '1394',\n '8913',\n '61422',\n '72625',\n '4551',\n '188',\n '237',\n '884',\n '65',\n '42517',\n '964',\n '252',\n '9',\n '753',\n '1628',\n '98681',\n '889',\n '4718',\n '1383',\n '3731',\n '3',\n '76',\n '4',\n '7218',\n '6618',\n '4765',\n '1878',\n '5827721',\n '8',\n '33938938',\n '2',\n '62643',\n '86',\n '473',\n '66283',\n '4565238',\n '3',\n '4846',\n '6713',\n '751',\n '264',\n '736',\n '4848',\n '3177',\n '3842',\n '575',\n '225',\n '87382',\n '6947',\n '141322',\n '826',\n '9826337',\n '731213',\n '98',\n '875252',\n '77547',\n '257',\n '4887792',\n '46',\n '548',\n '735278',\n '134',\n '6298',\n '965',\n '88',\n '3879',\n '838488',\n '8418',\n '15611',\n '92',\n '596219',\n '141163',\n '954',\n '36191',\n '548',\n '434',\n '4496',\n '9599',\n '9523715718',\n '19',\n '5789',\n '22',\n '5919',\n '4413',\n '92',\n '8265',\n '751',\n '8221118',\n '7312',\n '78',\n '87',\n '87',\n '612',\n '187',\n '54544',\n '7739',\n '4517',\n '3',\n '377122',\n '158128',\n '85',\n '39415',\n '4461',\n '444',\n '8564',\n '26259421',\n '3686',\n '695447',\n '431',\n '1',\n '272',\n '4169192',\n '198',\n '22',\n '12359',\n '43',\n '23824',\n '1525',\n '1',\n '915',\n '212479',\n '368',\n '225879',\n '5816',\n '339394',\n '73344',\n '543',\n '43',\n '499419',\n '9',\n '38129',\n '85',\n '57691',\n '216',\n '45115974',\n '1542',\n '42623645',\n '81',\n '17',\n '932366',\n '21571116',\n '622872',\n '11',\n '13961',\n '154',\n '1164',\n '92443',\n '73297',\n '21367',\n '15865348',\n '181',\n '79622',\n '9255661',\n '912941818',\n '5',\n '343697',\n '466491',\n '7',\n '428',\n '722347',\n '1362',\n '74535756',\n '24134',\n '746',\n '76',\n '33376',\n '3234563',\n '842',\n '326',\n '649581',\n '4842',\n '57',\n '7556',\n '6143',\n '4894',\n '8624',\n '9897',\n '523',\n '86683',\n '96171',\n '627816',\n '57972',\n '58577',\n '592',\n '881499',\n '26',\n '4',\n '966869',\n '49',\n '759156',\n '937',\n '55747893',\n '89',\n '64563821',\n '62',\n '7',\n '6496',\n '649282',\n '351358',\n '274',\n '3154',\n '2855',\n '1885',\n '9981663',\n '24396',\n '7',\n '15339',\n '583451',\n '8495',\n '113326',\n '63285',\n '4789',\n '52497',\n '1625',\n '251195',\n '193',\n '6333',\n '7',\n '8117',\n '778456',\n '923815',\n '8258299',\n '9949',\n '89732',\n '7',\n '4539',\n '934',\n '177298',\n '452387',\n '5964',\n '963259',\n '495',\n '755',\n '53',\n '474',\n '6143',\n '3647',\n '4466',\n '919',\n '253',\n '7341',\n '88886125',\n '99241',\n '5282',\n '488',\n '24827496',\n '884',\n '398',\n '8928722',\n '37',\n '34285',\n '226',\n '8547683',\n '419',\n '386777',\n '1846',\n '187',\n '3862163',\n '516',\n '9156599',\n '7395',\n '557568',\n '4727',\n '91',\n '2561',\n '8126',\n '915',\n '11277531',\n '4',\n '3452',\n '662',\n '64879',\n '748529',\n '788967',\n '5335',\n '3',\n '277',\n '142',\n '3823',\n '9718',\n '18932',\n '496213',\n '856',\n '528495',\n '623674',\n '526',\n '9797',\n '56785',\n '67195',\n '68847',\n '62886',\n '69217',\n '813318',\n '5287',\n '724',\n '7885',\n '3',\n '31692',\n '126',\n '81693',\n '52',\n '4942',\n '4549',\n '375',\n '687474',\n '236',\n '333',\n '3379',\n '378',\n '218',\n '892786',\n '96574',\n '7851735',\n '53386',\n '1213',\n '4726',\n '653',\n '3978',\n '58',\n '641',\n '8318',\n '66383',\n '8399',\n '22',\n '566',\n '9619',\n '352',\n '33133',\n '59123',\n '3758',\n '2148',\n '47835',\n '3286',\n '726359',\n '98311',\n '7926',\n '227',\n '733841',\n '3311',\n '547224',\n '47118',\n '77325',\n '6595',\n '2318',\n '989',\n '958',\n '5666',\n '34',\n '2',\n '455135',\n '822',\n '9',\n '1699',\n '26677',\n '21367857',\n '415',\n '6891',\n '8845',\n '5335',\n '4123',\n '99',\n '9432422',\n '42985',\n '7514',\n '7715',\n '986',\n '873',\n '7',\n '537',\n '9',\n '261417',\n '343938',\n '893353',\n '54779',\n '1',\n '212',\n '751979',\n '1231',\n '583768',\n '84674866',\n '473',\n '564',\n '425',\n '15',\n '266',\n '532',\n '59397',\n '98162',\n '692299',\n '719',\n '441',\n '78292169',\n '5253',\n '3585969',\n '3222',\n '2351',\n '2497',\n '3',\n '5',\n '57',\n '527663',\n '31',\n '49132',\n '9',\n '4239',\n '47',\n '83919',\n '7136',\n '971647',\n '739899',\n '564',\n '4174932',\n '156',\n '83',\n '71993',\n '521456',\n '58352',\n '8462',\n '8175',\n '1352563',\n '2492',\n '2448',\n '757614',\n '98',\n '45',\n '217297',\n '2211',\n '45177',\n '7176555',\n '5699',\n '329',\n '735',\n '287715',\n '92799',\n '797',\n '6436844',\n '81118',\n '831679',\n '2617482',\n '56',\n '66398',\n '79818',\n '1774',\n '7',\n '2',\n '2915',\n '62186536',\n '459',\n '829716',\n '214',\n '64',\n '7381293',\n '63382',\n '73576',\n '752848',\n '991222',\n '7621',\n '21572',\n '37',\n '139',\n '389168',\n '25556',\n '79',\n '9667',\n '16972',\n '9448',\n '448',\n '3',\n '61896',\n '136',\n '1739',\n '659',\n '31',\n '34674',\n '183',\n '7115',\n '32713',\n '792',\n '2935562',\n '57849669',\n '3',\n '64721874',\n '4415',\n '64953',\n '177831',\n '234',\n '8975']"
          },
          "metadata": {}
        }
      ],
      "execution_count": 98,
      "metadata": {
        "collapsed": true,
        "jupyter": {
          "source_hidden": false,
          "outputs_hidden": false
        },
        "nteract": {
          "transient": {
            "deleting": false
          }
        },
        "execution": {
          "iopub.status.busy": "2023-12-01T15:48:04.607Z",
          "iopub.execute_input": "2023-12-01T15:48:04.612Z",
          "iopub.status.idle": "2023-12-01T15:48:04.621Z",
          "shell.execute_reply": "2023-12-01T15:48:04.624Z"
        }
      }
    },
    {
      "cell_type": "code",
      "source": [
        "solution = 0\n",
        "for i in newin:\n",
        "  r = re.findall(r'\\d', i)\n",
        "  a = r[0] + r[-1]\n",
        "  solution += int(a)\n",
        "print(solution)\n"
      ],
      "outputs": [
        {
          "output_type": "stream",
          "name": "stdout",
          "text": [
            "54706\n"
          ]
        }
      ],
      "execution_count": 99,
      "metadata": {
        "collapsed": true,
        "jupyter": {
          "source_hidden": false,
          "outputs_hidden": false
        },
        "nteract": {
          "transient": {
            "deleting": false
          }
        },
        "execution": {
          "iopub.status.busy": "2023-12-01T15:48:05.155Z",
          "iopub.execute_input": "2023-12-01T15:48:05.159Z",
          "iopub.status.idle": "2023-12-01T15:48:05.167Z",
          "shell.execute_reply": "2023-12-01T15:48:05.172Z"
        }
      }
    },
    {
      "cell_type": "code",
      "source": [],
      "outputs": [],
      "execution_count": null,
      "metadata": {
        "collapsed": true,
        "jupyter": {
          "source_hidden": false,
          "outputs_hidden": false
        },
        "nteract": {
          "transient": {
            "deleting": false
          }
        }
      }
    },
    {
      "cell_type": "code",
      "source": [],
      "outputs": [],
      "execution_count": null,
      "metadata": {
        "collapsed": true,
        "jupyter": {
          "source_hidden": false,
          "outputs_hidden": false
        },
        "nteract": {
          "transient": {
            "deleting": false
          }
        }
      }
    }
  ],
  "metadata": {
    "kernel_info": {
      "name": "laminart"
    },
    "language_info": {
      "name": "python",
      "version": "3.11.6",
      "mimetype": "text/x-python",
      "codemirror_mode": {
        "name": "ipython",
        "version": 3
      },
      "pygments_lexer": "ipython3",
      "nbconvert_exporter": "python",
      "file_extension": ".py"
    },
    "kernelspec": {
      "argv": [
        "/Users/lisa/miniconda3/envs/laminart/bin/python",
        "-m",
        "ipykernel_launcher",
        "-f",
        "{connection_file}"
      ],
      "display_name": "laminart",
      "language": "python",
      "metadata": {
        "debugger": true
      },
      "name": "laminart"
    },
    "nteract": {
      "version": "0.28.0"
    }
  },
  "nbformat": 4,
  "nbformat_minor": 0
}